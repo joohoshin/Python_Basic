{
  "nbformat": 4,
  "nbformat_minor": 0,
  "metadata": {
    "colab": {
      "name": "19-3. GUI Intro & Spyder.ipynb",
      "provenance": [],
      "authorship_tag": "ABX9TyPFZ2nv5BLsChhb9GUTl+4X",
      "include_colab_link": true
    },
    "kernelspec": {
      "name": "python3",
      "display_name": "Python 3"
    }
  },
  "cells": [
    {
      "cell_type": "markdown",
      "metadata": {
        "id": "view-in-github",
        "colab_type": "text"
      },
      "source": [
        "<a href=\"https://colab.research.google.com/github/joohoshin/Python_Basic/blob/master/19_3_GUI_Intro_%26_Spyder.ipynb\" target=\"_parent\"><img src=\"https://colab.research.google.com/assets/colab-badge.svg\" alt=\"Open In Colab\"/></a>"
      ]
    },
    {
      "cell_type": "markdown",
      "metadata": {
        "id": "eLHvoflKFyW6"
      },
      "source": [
        "파이썬에서 화면을 만드는 방법은 몇가지가 있습니다. \n",
        "\n",
        "* 데스크탑 서비스: PyQt + QtDesigner\n",
        "\n",
        "   https://wikidocs.net/book/2944\n",
        "\n",
        "* 웹서비스 \n",
        "   \n",
        "   flask: 시작이 쉬운 웹프레임워크\n",
        "\n",
        "    https://wikidocs.net/book/4542\n",
        "\n",
        "   Django: 대부분의 기능이 갖춰진 강력한 웹프레임워크\n",
        "\n",
        "   https://wikidocs.net/book/4223\n",
        "\n",
        "* 대시보드\n",
        "\n",
        "   Streamlit: 파이썬 스크립트로 빠르게 웹 대시보드 구축\n",
        "\n",
        "   https://www.streamlit.io/\n",
        "\n",
        "   Plotly Dash: \n",
        "     파이썬으로 웹 대시보드 구현,  Streamlit보다 기능 많으나 좀 더 복잡\n",
        "\n",
        "   https://dash-gallery.plotly.host/Portal/\n",
        "\n",
        "   "
      ]
    },
    {
      "cell_type": "markdown",
      "metadata": {
        "id": "PfKUc8JTHj8a"
      },
      "source": [
        "Spyder: 파이썬 데이터분석에 최적화된 IDE\n",
        "\n",
        "https://www.spyder-ide.org/\n",
        "\n",
        "Ananconda Distribution: 데이터 분석 관련된 패키지 한번에 설치\n",
        "\n",
        "https://www.anaconda.com/products/individual"
      ]
    },
    {
      "cell_type": "code",
      "metadata": {
        "id": "u6cni2wFHvFJ"
      },
      "source": [
        ""
      ],
      "execution_count": null,
      "outputs": []
    }
  ]
}