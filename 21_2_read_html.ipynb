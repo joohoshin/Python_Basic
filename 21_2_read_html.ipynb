{
  "nbformat": 4,
  "nbformat_minor": 0,
  "metadata": {
    "colab": {
      "name": "21-2. read_html.ipynb",
      "provenance": [],
      "authorship_tag": "ABX9TyOymyMjCo7oX/KlnW2lsta4",
      "include_colab_link": true
    },
    "kernelspec": {
      "name": "python3",
      "display_name": "Python 3"
    }
  },
  "cells": [
    {
      "cell_type": "markdown",
      "metadata": {
        "id": "view-in-github",
        "colab_type": "text"
      },
      "source": [
        "<a href=\"https://colab.research.google.com/github/joohoshin/Python_Basic/blob/master/21_2_read_html.ipynb\" target=\"_parent\"><img src=\"https://colab.research.google.com/assets/colab-badge.svg\" alt=\"Open In Colab\"/></a>"
      ]
    },
    {
      "cell_type": "markdown",
      "metadata": {
        "id": "qmVshhfFPvQk"
      },
      "source": [
        "Pandas의 read_html()을 활용해서 웹의 테이블 데이터를 가져올수 있다. \n",
        "\n",
        "https://finance.naver.com/item/main.nhn?code=005930\n",
        "\n",
        "더 세부적인 웹크롤링이 필요하면 beutifulsoup 라이브러리를 사용한다. \n"
      ]
    },
    {
      "cell_type": "code",
      "metadata": {
        "id": "EQmArxqzOLcC"
      },
      "source": [
        "# 데이터를 가져와보자\n",
        "import pandas as pd\n",
        "\n",
        "raw = pd.read_html('https://finance.naver.com/item/main.nhn?code=005930',encoding='cp949')"
      ],
      "execution_count": null,
      "outputs": []
    },
    {
      "cell_type": "code",
      "metadata": {
        "id": "62wRTtxiRsmC",
        "colab": {
          "base_uri": "https://localhost:8080/"
        },
        "outputId": "a00bebfc-9363-484d-8f0f-0e6fb785867a"
      },
      "source": [
        "raw"
      ],
      "execution_count": null,
      "outputs": [
        {
          "output_type": "execute_result",
          "data": {
            "text/plain": [
              "[                    0  ...                               2\n",
              " 0  전일  66,600  66,600  ...     거래량  15,531,086  15,531,086\n",
              " 1    시가  66,10066,100  ...  거래대금  1,043,145  1,043,145  백만\n",
              " \n",
              " [2 rows x 3 columns],      매도상위        거래량      매수상위        거개량\n",
              " 0     NaN        NaN       NaN        NaN\n",
              " 1    이베스트  2414946.0      이베스트  2367550.0\n",
              " 2      한화  1383739.0        한화  1509645.0\n",
              " 3      삼성  1367318.0        삼성  1261233.0\n",
              " 4    키움증권  1100966.0      키움증권  1135484.0\n",
              " 5  NH투자증권  1044612.0    NH투자증권   925291.0\n",
              " 6  외국계추정합   302388.0  +469,938   772326.0,       날짜       종가        전일비         외국인        기관\n",
              " 0    NaN      NaN        NaN         NaN       NaN\n",
              " 1  11/25  66600.0  하향  1,100    -4445653  +466,158\n",
              " 2  11/24  67700.0    상향  200  +2,110,398  -3009197\n",
              " 3  11/23  67500.0  상향  2,800  +3,796,824  +637,477\n",
              " 4  11/20  64700.0    상향  100     -423971  -1150454\n",
              " 5  11/19  64600.0    하향  200     -672178   -966779\n",
              " 6  11/18  64800.0    하향  900    -1234779  +372,944\n",
              " 7    NaN      NaN        NaN         NaN       NaN,        주요재무정보    최근 연간 실적              ...   최근 분기 실적                      \n",
              "        주요재무정보     2017.12     2018.12  ...    2020.06    2020.09 2020.12(E)\n",
              "        주요재무정보      IFRS연결      IFRS연결  ...     IFRS연결     IFRS연결     IFRS연결\n",
              " 0         매출액  2395754.00  2437714.00  ...  529661.00  669642.00  631513.00\n",
              " 1        영업이익   536450.00   588867.00  ...   81463.00  123532.00  101611.00\n",
              " 2       당기순이익   421867.00   443449.00  ...   55551.00   93607.00   79444.00\n",
              " 3       영업이익률       22.39       24.16  ...      15.38      18.45      16.09\n",
              " 4        순이익률       17.61       18.19  ...      10.49      13.98      12.58\n",
              " 5   ROE(지배주주)       21.01       19.63  ...       8.49       9.51        NaN\n",
              " 6        부채비율       40.68       36.97  ...      32.67      36.09        NaN\n",
              " 7        당좌비율      181.61      204.12  ...     250.04     229.69        NaN\n",
              " 8         유보율    24536.12    27531.92  ...   29477.97   30242.29        NaN\n",
              " 9      EPS(원)     5421.00     6024.00  ...     808.00    1364.00    1101.00\n",
              " 10     PER(배)        9.40        6.42  ...      16.52      15.89      60.51\n",
              " 11     BPS(원)    30427.00    35342.00  ...   38534.00   39446.00   40401.00\n",
              " 12     PBR(배)        1.67        1.09  ...       1.37       1.48       1.65\n",
              " 13   주당배당금(원)      850.00     1416.00  ...        NaN        NaN        NaN\n",
              " 14   시가배당률(%)        1.67        3.66  ...        NaN        NaN        NaN\n",
              " 15    배당성향(%)       14.09       21.92  ...        NaN        NaN        NaN\n",
              " \n",
              " [16 rows x 11 columns],            종목명 삼성전자*005930 SK하이닉스*000660 솔브레인*357780  리노공업058470 원익IPS240810\n",
              " 0          현재가       67600         99500      252200      126700       37900\n",
              " 1         전일대비   상향  1,000     상향  2,300   상향  4,200     상향  800     상향  400\n",
              " 2          등락률  상향  +1.50%    상향  +2.37%  상향  +1.69%  상향  +0.64%  상향  +1.07%\n",
              " 3      시가총액(억)     4035573        724362       19617       19312       18602\n",
              " 4     외국인비율(%)       56.56         50.16       21.99       42.64       27.52\n",
              " 5       매출액(억)      669642         81288        2305         530         NaN\n",
              " 6      영업이익(억)      123532         12997         543         205         NaN\n",
              " 7    조정영업이익(억)      123532         12997         543         205         NaN\n",
              " 8   영업이익증가율(%)       51.64        -33.24         NaN       -2.28         NaN\n",
              " 9     당기순이익(억)       93607         10779         381         146         NaN\n",
              " 10    주당순이익(원)     1364.24       1479.75     4755.72      958.14         NaN\n",
              " 11      ROE(%)        9.51          5.81         NaN       20.02         NaN\n",
              " 12      PER(%)       18.46         25.24         NaN       31.35       29.91\n",
              " 13      PBR(배)        1.71          1.35        4.17        5.83        2.98,           0                1\n",
              " 0      시가총액  403조  5,573  억원\n",
              " 1    시가총액순위           코스피 1위\n",
              " 2     상장주식수       5969782550\n",
              " 3  액면가l매매단위      100원  l  1주,              0           1\n",
              " 0  외국인한도주식수(A)  5969782550\n",
              " 1  외국인보유주식수(B)  3376465034\n",
              " 2  외국인소진율(B/A)      56.56%,            0                  1\n",
              " 0  투자의견l목표주가  4.00매수  l  78,883\n",
              " 1   52주최고l최저  69,500  l  42,300,                    0                  1\n",
              " 0   PERlEPS(2020.09)  18.46배  l  3,662원\n",
              " 1          추정PERlEPS  17.00배  l  4,069원\n",
              " 2  PBRlBPS (2020.09)  1.71배  l  39,446원\n",
              " 3      배당수익률l2019.12              2.10%,           0       1\n",
              " 0  동일업종 PER  20.06배\n",
              " 1  동일업종 등락률  +1.70%,          매도잔량 호가(20분지연)       매수잔량\n",
              " 0         NaN       NaN        NaN\n",
              " 1    115547.0     68400        NaN\n",
              " 2    203486.0     68300        NaN\n",
              " 3    196166.0     68200        NaN\n",
              " 4    213181.0     68100        NaN\n",
              " 5    345917.0     68000        NaN\n",
              " 6    255693.0     67900        NaN\n",
              " 7    251296.0     67800        NaN\n",
              " 8    234534.0     67700        NaN\n",
              " 9    176649.0     67600        NaN\n",
              " 10   263047.0     67500        NaN\n",
              " 11        NaN       NaN        NaN\n",
              " 12        NaN     67400   161210.0\n",
              " 13        NaN     67300   170992.0\n",
              " 14        NaN     67200   117815.0\n",
              " 15        NaN     67100   104835.0\n",
              " 16        NaN     67000   114802.0\n",
              " 17        NaN     66900   145168.0\n",
              " 18        NaN     66800    86906.0\n",
              " 19        NaN     66700    94501.0\n",
              " 20        NaN     66600   183960.0\n",
              " 21        NaN     66500   170832.0\n",
              " 22        NaN       NaN        NaN\n",
              " 23  2255516.0      잔량합계  1351021.0,        업체명       거래량         전일비\n",
              " 0     삼성전자   67700.0   상향  1,100\n",
              " 1     LG화학  810000.0  상향  22,000\n",
              " 2     셀트리온  331000.0   상향  1,000\n",
              " 3    삼성전자우   61700.0     상향  900\n",
              " 4   SK하이닉스   99400.0   상향  2,200\n",
              " 5      NaN       NaN         NaN\n",
              " 6     서울식품     202.0      상향  39\n",
              " 7      카카오  372500.0   상향  5,500\n",
              " 8    NAVER  284000.0   상향  5,500\n",
              " 9     신풍제약  126500.0   상향  7,500\n",
              " 10   두산중공업   15950.0     상향  550,          업체명       거래량         전일비\n",
              " 0     셀트리온제약  187900.0  상향  15,900\n",
              " 1   에이비프로바..    2820.0     하향  180\n",
              " 2   셀트리온헬스..  110100.0   상향  2,000\n",
              " 3      진매트릭스   29900.0   하향  4,000\n",
              " 4        링네트    7770.0   상향  1,430\n",
              " 5        NaN       NaN         NaN\n",
              " 6       알서포트   16100.0   상향  1,300\n",
              " 7         씨젠  181500.0   상향  3,900\n",
              " 8      GH신소재   11100.0   상향  2,510\n",
              " 9      박셀바이오   98700.0     상향  200\n",
              " 10    제일전기공업   31350.0   하향  2,650]"
            ]
          },
          "metadata": {
            "tags": []
          },
          "execution_count": 3
        }
      ]
    },
    {
      "cell_type": "code",
      "metadata": {
        "colab": {
          "base_uri": "https://localhost:8080/"
        },
        "id": "0LuWXcem-knI",
        "outputId": "15c32ea3-bee7-4351-a85e-06fde5f234ed"
      },
      "source": [
        "type(raw)"
      ],
      "execution_count": null,
      "outputs": [
        {
          "output_type": "execute_result",
          "data": {
            "text/plain": [
              "list"
            ]
          },
          "metadata": {
            "tags": []
          },
          "execution_count": 5
        }
      ]
    },
    {
      "cell_type": "code",
      "metadata": {
        "id": "Gmgo4bZ1R7gO",
        "colab": {
          "base_uri": "https://localhost:8080/",
          "height": 110
        },
        "outputId": "683792ff-bce4-47e2-bef1-1108f4be205a"
      },
      "source": [
        "raw[0]"
      ],
      "execution_count": null,
      "outputs": [
        {
          "output_type": "execute_result",
          "data": {
            "text/html": [
              "<div>\n",
              "<style scoped>\n",
              "    .dataframe tbody tr th:only-of-type {\n",
              "        vertical-align: middle;\n",
              "    }\n",
              "\n",
              "    .dataframe tbody tr th {\n",
              "        vertical-align: top;\n",
              "    }\n",
              "\n",
              "    .dataframe thead th {\n",
              "        text-align: right;\n",
              "    }\n",
              "</style>\n",
              "<table border=\"1\" class=\"dataframe\">\n",
              "  <thead>\n",
              "    <tr style=\"text-align: right;\">\n",
              "      <th></th>\n",
              "      <th>0</th>\n",
              "      <th>1</th>\n",
              "      <th>2</th>\n",
              "    </tr>\n",
              "  </thead>\n",
              "  <tbody>\n",
              "    <tr>\n",
              "      <th>0</th>\n",
              "      <td>전일  66,600  66,600</td>\n",
              "      <td>고가  67,90067,900  (상한가  86,50086,500  )</td>\n",
              "      <td>거래량  15,531,086  15,531,086</td>\n",
              "    </tr>\n",
              "    <tr>\n",
              "      <th>1</th>\n",
              "      <td>시가  66,10066,100</td>\n",
              "      <td>저가  66,00066,000  (하한가  46,700  )</td>\n",
              "      <td>거래대금  1,043,145  1,043,145  백만</td>\n",
              "    </tr>\n",
              "  </tbody>\n",
              "</table>\n",
              "</div>"
            ],
            "text/plain": [
              "                    0  ...                               2\n",
              "0  전일  66,600  66,600  ...     거래량  15,531,086  15,531,086\n",
              "1    시가  66,10066,100  ...  거래대금  1,043,145  1,043,145  백만\n",
              "\n",
              "[2 rows x 3 columns]"
            ]
          },
          "metadata": {
            "tags": []
          },
          "execution_count": 6
        }
      ]
    },
    {
      "cell_type": "code",
      "metadata": {
        "id": "htKeoA1thXT3",
        "colab": {
          "base_uri": "https://localhost:8080/"
        },
        "outputId": "434d5692-818e-458f-9f95-6d1ac89657a7"
      },
      "source": [
        "type(raw[0])"
      ],
      "execution_count": null,
      "outputs": [
        {
          "output_type": "execute_result",
          "data": {
            "text/plain": [
              "pandas.core.frame.DataFrame"
            ]
          },
          "metadata": {
            "tags": []
          },
          "execution_count": 7
        }
      ]
    },
    {
      "cell_type": "code",
      "metadata": {
        "id": "aUyVGD1hR80A",
        "colab": {
          "base_uri": "https://localhost:8080/",
          "height": 263
        },
        "outputId": "bb5ec962-9971-4457-fad5-c64a8910afd8"
      },
      "source": [
        "raw[1]"
      ],
      "execution_count": null,
      "outputs": [
        {
          "output_type": "execute_result",
          "data": {
            "text/html": [
              "<div>\n",
              "<style scoped>\n",
              "    .dataframe tbody tr th:only-of-type {\n",
              "        vertical-align: middle;\n",
              "    }\n",
              "\n",
              "    .dataframe tbody tr th {\n",
              "        vertical-align: top;\n",
              "    }\n",
              "\n",
              "    .dataframe thead th {\n",
              "        text-align: right;\n",
              "    }\n",
              "</style>\n",
              "<table border=\"1\" class=\"dataframe\">\n",
              "  <thead>\n",
              "    <tr style=\"text-align: right;\">\n",
              "      <th></th>\n",
              "      <th>매도상위</th>\n",
              "      <th>거래량</th>\n",
              "      <th>매수상위</th>\n",
              "      <th>거개량</th>\n",
              "    </tr>\n",
              "  </thead>\n",
              "  <tbody>\n",
              "    <tr>\n",
              "      <th>0</th>\n",
              "      <td>NaN</td>\n",
              "      <td>NaN</td>\n",
              "      <td>NaN</td>\n",
              "      <td>NaN</td>\n",
              "    </tr>\n",
              "    <tr>\n",
              "      <th>1</th>\n",
              "      <td>이베스트</td>\n",
              "      <td>2414946.0</td>\n",
              "      <td>이베스트</td>\n",
              "      <td>2367550.0</td>\n",
              "    </tr>\n",
              "    <tr>\n",
              "      <th>2</th>\n",
              "      <td>한화</td>\n",
              "      <td>1383739.0</td>\n",
              "      <td>한화</td>\n",
              "      <td>1509645.0</td>\n",
              "    </tr>\n",
              "    <tr>\n",
              "      <th>3</th>\n",
              "      <td>삼성</td>\n",
              "      <td>1367318.0</td>\n",
              "      <td>삼성</td>\n",
              "      <td>1261233.0</td>\n",
              "    </tr>\n",
              "    <tr>\n",
              "      <th>4</th>\n",
              "      <td>키움증권</td>\n",
              "      <td>1100966.0</td>\n",
              "      <td>키움증권</td>\n",
              "      <td>1135484.0</td>\n",
              "    </tr>\n",
              "    <tr>\n",
              "      <th>5</th>\n",
              "      <td>NH투자증권</td>\n",
              "      <td>1044612.0</td>\n",
              "      <td>NH투자증권</td>\n",
              "      <td>925291.0</td>\n",
              "    </tr>\n",
              "    <tr>\n",
              "      <th>6</th>\n",
              "      <td>외국계추정합</td>\n",
              "      <td>302388.0</td>\n",
              "      <td>+469,938</td>\n",
              "      <td>772326.0</td>\n",
              "    </tr>\n",
              "  </tbody>\n",
              "</table>\n",
              "</div>"
            ],
            "text/plain": [
              "     매도상위        거래량      매수상위        거개량\n",
              "0     NaN        NaN       NaN        NaN\n",
              "1    이베스트  2414946.0      이베스트  2367550.0\n",
              "2      한화  1383739.0        한화  1509645.0\n",
              "3      삼성  1367318.0        삼성  1261233.0\n",
              "4    키움증권  1100966.0      키움증권  1135484.0\n",
              "5  NH투자증권  1044612.0    NH투자증권   925291.0\n",
              "6  외국계추정합   302388.0  +469,938   772326.0"
            ]
          },
          "metadata": {
            "tags": []
          },
          "execution_count": 8
        }
      ]
    },
    {
      "cell_type": "code",
      "metadata": {
        "id": "NdKMOYMwgqYv",
        "colab": {
          "base_uri": "https://localhost:8080/"
        },
        "outputId": "cfbcf07e-8af6-450d-8529-4fbfc6a5b03f"
      },
      "source": [
        "len(raw)"
      ],
      "execution_count": null,
      "outputs": [
        {
          "output_type": "execute_result",
          "data": {
            "text/plain": [
              "13"
            ]
          },
          "metadata": {
            "tags": []
          },
          "execution_count": 9
        }
      ]
    },
    {
      "cell_type": "code",
      "metadata": {
        "id": "GAMjrEirSAJV"
      },
      "source": [
        "raw = pd.read_html('https://finance.naver.com/item/main.nhn?code=005930',attrs={'class':'tb_type1 tb_num tb_type1_ifrs'},encoding='cp949')"
      ],
      "execution_count": null,
      "outputs": []
    },
    {
      "cell_type": "code",
      "metadata": {
        "id": "ilZqjHA1Srto",
        "colab": {
          "base_uri": "https://localhost:8080/"
        },
        "outputId": "4cded7f4-32d5-4dea-e7f8-ff2f290650f4"
      },
      "source": [
        "raw"
      ],
      "execution_count": null,
      "outputs": [
        {
          "output_type": "execute_result",
          "data": {
            "text/plain": [
              "[       주요재무정보    최근 연간 실적              ...   최근 분기 실적                      \n",
              "        주요재무정보     2017.12     2018.12  ...    2020.06    2020.09 2020.12(E)\n",
              "        주요재무정보      IFRS연결      IFRS연결  ...     IFRS연결     IFRS연결     IFRS연결\n",
              " 0         매출액  2395754.00  2437714.00  ...  529661.00  669642.00  631513.00\n",
              " 1        영업이익   536450.00   588867.00  ...   81463.00  123532.00  101611.00\n",
              " 2       당기순이익   421867.00   443449.00  ...   55551.00   93607.00   79444.00\n",
              " 3       영업이익률       22.39       24.16  ...      15.38      18.45      16.09\n",
              " 4        순이익률       17.61       18.19  ...      10.49      13.98      12.58\n",
              " 5   ROE(지배주주)       21.01       19.63  ...       8.49       9.51        NaN\n",
              " 6        부채비율       40.68       36.97  ...      32.67      36.09        NaN\n",
              " 7        당좌비율      181.61      204.12  ...     250.04     229.69        NaN\n",
              " 8         유보율    24536.12    27531.92  ...   29477.97   30242.29        NaN\n",
              " 9      EPS(원)     5421.00     6024.00  ...     808.00    1364.00    1101.00\n",
              " 10     PER(배)        9.40        6.42  ...      16.52      15.89      60.51\n",
              " 11     BPS(원)    30427.00    35342.00  ...   38534.00   39446.00   40401.00\n",
              " 12     PBR(배)        1.67        1.09  ...       1.37       1.48       1.65\n",
              " 13   주당배당금(원)      850.00     1416.00  ...        NaN        NaN        NaN\n",
              " 14   시가배당률(%)        1.67        3.66  ...        NaN        NaN        NaN\n",
              " 15    배당성향(%)       14.09       21.92  ...        NaN        NaN        NaN\n",
              " \n",
              " [16 rows x 11 columns]]"
            ]
          },
          "metadata": {
            "tags": []
          },
          "execution_count": 11
        }
      ]
    },
    {
      "cell_type": "code",
      "metadata": {
        "id": "z93oFOjUTIR1",
        "colab": {
          "base_uri": "https://localhost:8080/",
          "height": 36
        },
        "outputId": "22afe157-7713-4be4-b4e1-1709e384b75d"
      },
      "source": [
        "type(raw)"
      ],
      "execution_count": null,
      "outputs": [
        {
          "output_type": "execute_result",
          "data": {
            "text/plain": [
              "list"
            ]
          },
          "metadata": {
            "tags": []
          },
          "execution_count": 9
        }
      ]
    },
    {
      "cell_type": "code",
      "metadata": {
        "id": "QYVe02diiH0V",
        "colab": {
          "base_uri": "https://localhost:8080/",
          "height": 36
        },
        "outputId": "dd3cc11b-83e9-4e5c-8c88-2046bedf1404"
      },
      "source": [
        "len(raw)"
      ],
      "execution_count": null,
      "outputs": [
        {
          "output_type": "execute_result",
          "data": {
            "text/plain": [
              "1"
            ]
          },
          "metadata": {
            "tags": []
          },
          "execution_count": 10
        }
      ]
    },
    {
      "cell_type": "code",
      "metadata": {
        "id": "KQ6czPAETKT0",
        "colab": {
          "base_uri": "https://localhost:8080/",
          "height": 601
        },
        "outputId": "784e8d1f-15ad-4998-cb6c-67a0c2833660"
      },
      "source": [
        "raw[0]"
      ],
      "execution_count": null,
      "outputs": [
        {
          "output_type": "execute_result",
          "data": {
            "text/html": [
              "<div>\n",
              "<style scoped>\n",
              "    .dataframe tbody tr th:only-of-type {\n",
              "        vertical-align: middle;\n",
              "    }\n",
              "\n",
              "    .dataframe tbody tr th {\n",
              "        vertical-align: top;\n",
              "    }\n",
              "\n",
              "    .dataframe thead tr th {\n",
              "        text-align: left;\n",
              "    }\n",
              "</style>\n",
              "<table border=\"1\" class=\"dataframe\">\n",
              "  <thead>\n",
              "    <tr>\n",
              "      <th></th>\n",
              "      <th>주요재무정보</th>\n",
              "      <th colspan=\"4\" halign=\"left\">최근 연간 실적</th>\n",
              "      <th colspan=\"6\" halign=\"left\">최근 분기 실적</th>\n",
              "    </tr>\n",
              "    <tr>\n",
              "      <th></th>\n",
              "      <th>주요재무정보</th>\n",
              "      <th>2017.12</th>\n",
              "      <th>2018.12</th>\n",
              "      <th>2019.12</th>\n",
              "      <th>2020.12(E)</th>\n",
              "      <th>2019.09</th>\n",
              "      <th>2019.12</th>\n",
              "      <th>2020.03</th>\n",
              "      <th>2020.06</th>\n",
              "      <th>2020.09</th>\n",
              "      <th>2020.12(E)</th>\n",
              "    </tr>\n",
              "    <tr>\n",
              "      <th></th>\n",
              "      <th>주요재무정보</th>\n",
              "      <th>IFRS연결</th>\n",
              "      <th>IFRS연결</th>\n",
              "      <th>IFRS연결</th>\n",
              "      <th>IFRS연결</th>\n",
              "      <th>IFRS연결</th>\n",
              "      <th>IFRS연결</th>\n",
              "      <th>IFRS연결</th>\n",
              "      <th>IFRS연결</th>\n",
              "      <th>IFRS연결</th>\n",
              "      <th>IFRS연결</th>\n",
              "    </tr>\n",
              "  </thead>\n",
              "  <tbody>\n",
              "    <tr>\n",
              "      <th>0</th>\n",
              "      <td>매출액</td>\n",
              "      <td>2395754.00</td>\n",
              "      <td>2437714.00</td>\n",
              "      <td>2304009.00</td>\n",
              "      <td>2384040.00</td>\n",
              "      <td>620035.00</td>\n",
              "      <td>598848.00</td>\n",
              "      <td>553252.00</td>\n",
              "      <td>529661.00</td>\n",
              "      <td>669642.00</td>\n",
              "      <td>631513.00</td>\n",
              "    </tr>\n",
              "    <tr>\n",
              "      <th>1</th>\n",
              "      <td>영업이익</td>\n",
              "      <td>536450.00</td>\n",
              "      <td>588867.00</td>\n",
              "      <td>277685.00</td>\n",
              "      <td>371055.00</td>\n",
              "      <td>77779.00</td>\n",
              "      <td>71603.00</td>\n",
              "      <td>64473.00</td>\n",
              "      <td>81463.00</td>\n",
              "      <td>123532.00</td>\n",
              "      <td>101611.00</td>\n",
              "    </tr>\n",
              "    <tr>\n",
              "      <th>2</th>\n",
              "      <td>당기순이익</td>\n",
              "      <td>421867.00</td>\n",
              "      <td>443449.00</td>\n",
              "      <td>217389.00</td>\n",
              "      <td>278835.00</td>\n",
              "      <td>62877.00</td>\n",
              "      <td>52270.00</td>\n",
              "      <td>48849.00</td>\n",
              "      <td>55551.00</td>\n",
              "      <td>93607.00</td>\n",
              "      <td>79444.00</td>\n",
              "    </tr>\n",
              "    <tr>\n",
              "      <th>3</th>\n",
              "      <td>영업이익률</td>\n",
              "      <td>22.39</td>\n",
              "      <td>24.16</td>\n",
              "      <td>12.05</td>\n",
              "      <td>15.56</td>\n",
              "      <td>12.54</td>\n",
              "      <td>11.96</td>\n",
              "      <td>11.65</td>\n",
              "      <td>15.38</td>\n",
              "      <td>18.45</td>\n",
              "      <td>16.09</td>\n",
              "    </tr>\n",
              "    <tr>\n",
              "      <th>4</th>\n",
              "      <td>순이익률</td>\n",
              "      <td>17.61</td>\n",
              "      <td>18.19</td>\n",
              "      <td>9.44</td>\n",
              "      <td>11.70</td>\n",
              "      <td>10.14</td>\n",
              "      <td>8.73</td>\n",
              "      <td>8.83</td>\n",
              "      <td>10.49</td>\n",
              "      <td>13.98</td>\n",
              "      <td>12.58</td>\n",
              "    </tr>\n",
              "    <tr>\n",
              "      <th>5</th>\n",
              "      <td>ROE(지배주주)</td>\n",
              "      <td>21.01</td>\n",
              "      <td>19.63</td>\n",
              "      <td>8.69</td>\n",
              "      <td>10.44</td>\n",
              "      <td>10.05</td>\n",
              "      <td>8.69</td>\n",
              "      <td>8.45</td>\n",
              "      <td>8.49</td>\n",
              "      <td>9.51</td>\n",
              "      <td>NaN</td>\n",
              "    </tr>\n",
              "    <tr>\n",
              "      <th>6</th>\n",
              "      <td>부채비율</td>\n",
              "      <td>40.68</td>\n",
              "      <td>36.97</td>\n",
              "      <td>34.12</td>\n",
              "      <td>NaN</td>\n",
              "      <td>34.14</td>\n",
              "      <td>34.12</td>\n",
              "      <td>34.19</td>\n",
              "      <td>32.67</td>\n",
              "      <td>36.09</td>\n",
              "      <td>NaN</td>\n",
              "    </tr>\n",
              "    <tr>\n",
              "      <th>7</th>\n",
              "      <td>당좌비율</td>\n",
              "      <td>181.61</td>\n",
              "      <td>204.12</td>\n",
              "      <td>233.57</td>\n",
              "      <td>NaN</td>\n",
              "      <td>235.80</td>\n",
              "      <td>233.57</td>\n",
              "      <td>237.80</td>\n",
              "      <td>250.04</td>\n",
              "      <td>229.69</td>\n",
              "      <td>NaN</td>\n",
              "    </tr>\n",
              "    <tr>\n",
              "      <th>8</th>\n",
              "      <td>유보율</td>\n",
              "      <td>24536.12</td>\n",
              "      <td>27531.92</td>\n",
              "      <td>28856.02</td>\n",
              "      <td>NaN</td>\n",
              "      <td>28541.64</td>\n",
              "      <td>28856.02</td>\n",
              "      <td>29134.12</td>\n",
              "      <td>29477.97</td>\n",
              "      <td>30242.29</td>\n",
              "      <td>NaN</td>\n",
              "    </tr>\n",
              "    <tr>\n",
              "      <th>9</th>\n",
              "      <td>EPS(원)</td>\n",
              "      <td>5421.00</td>\n",
              "      <td>6024.00</td>\n",
              "      <td>3166.00</td>\n",
              "      <td>4069.00</td>\n",
              "      <td>899.00</td>\n",
              "      <td>770.00</td>\n",
              "      <td>720.00</td>\n",
              "      <td>808.00</td>\n",
              "      <td>1364.00</td>\n",
              "      <td>1101.00</td>\n",
              "    </tr>\n",
              "    <tr>\n",
              "      <th>10</th>\n",
              "      <td>PER(배)</td>\n",
              "      <td>9.40</td>\n",
              "      <td>6.42</td>\n",
              "      <td>17.63</td>\n",
              "      <td>16.37</td>\n",
              "      <td>13.73</td>\n",
              "      <td>17.63</td>\n",
              "      <td>15.24</td>\n",
              "      <td>16.52</td>\n",
              "      <td>15.89</td>\n",
              "      <td>60.51</td>\n",
              "    </tr>\n",
              "    <tr>\n",
              "      <th>11</th>\n",
              "      <td>BPS(원)</td>\n",
              "      <td>30427.00</td>\n",
              "      <td>35342.00</td>\n",
              "      <td>37528.00</td>\n",
              "      <td>40401.00</td>\n",
              "      <td>37600.00</td>\n",
              "      <td>37528.00</td>\n",
              "      <td>38053.00</td>\n",
              "      <td>38534.00</td>\n",
              "      <td>39446.00</td>\n",
              "      <td>40401.00</td>\n",
              "    </tr>\n",
              "    <tr>\n",
              "      <th>12</th>\n",
              "      <td>PBR(배)</td>\n",
              "      <td>1.67</td>\n",
              "      <td>1.09</td>\n",
              "      <td>1.49</td>\n",
              "      <td>1.65</td>\n",
              "      <td>1.30</td>\n",
              "      <td>1.49</td>\n",
              "      <td>1.25</td>\n",
              "      <td>1.37</td>\n",
              "      <td>1.48</td>\n",
              "      <td>1.65</td>\n",
              "    </tr>\n",
              "    <tr>\n",
              "      <th>13</th>\n",
              "      <td>주당배당금(원)</td>\n",
              "      <td>850.00</td>\n",
              "      <td>1416.00</td>\n",
              "      <td>1416.00</td>\n",
              "      <td>1561.00</td>\n",
              "      <td>NaN</td>\n",
              "      <td>NaN</td>\n",
              "      <td>NaN</td>\n",
              "      <td>NaN</td>\n",
              "      <td>NaN</td>\n",
              "      <td>NaN</td>\n",
              "    </tr>\n",
              "    <tr>\n",
              "      <th>14</th>\n",
              "      <td>시가배당률(%)</td>\n",
              "      <td>1.67</td>\n",
              "      <td>3.66</td>\n",
              "      <td>2.54</td>\n",
              "      <td>NaN</td>\n",
              "      <td>NaN</td>\n",
              "      <td>NaN</td>\n",
              "      <td>NaN</td>\n",
              "      <td>NaN</td>\n",
              "      <td>NaN</td>\n",
              "      <td>NaN</td>\n",
              "    </tr>\n",
              "    <tr>\n",
              "      <th>15</th>\n",
              "      <td>배당성향(%)</td>\n",
              "      <td>14.09</td>\n",
              "      <td>21.92</td>\n",
              "      <td>44.73</td>\n",
              "      <td>NaN</td>\n",
              "      <td>NaN</td>\n",
              "      <td>NaN</td>\n",
              "      <td>NaN</td>\n",
              "      <td>NaN</td>\n",
              "      <td>NaN</td>\n",
              "      <td>NaN</td>\n",
              "    </tr>\n",
              "  </tbody>\n",
              "</table>\n",
              "</div>"
            ],
            "text/plain": [
              "       주요재무정보    최근 연간 실적              ...   최근 분기 실적                      \n",
              "       주요재무정보     2017.12     2018.12  ...    2020.06    2020.09 2020.12(E)\n",
              "       주요재무정보      IFRS연결      IFRS연결  ...     IFRS연결     IFRS연결     IFRS연결\n",
              "0         매출액  2395754.00  2437714.00  ...  529661.00  669642.00  631513.00\n",
              "1        영업이익   536450.00   588867.00  ...   81463.00  123532.00  101611.00\n",
              "2       당기순이익   421867.00   443449.00  ...   55551.00   93607.00   79444.00\n",
              "3       영업이익률       22.39       24.16  ...      15.38      18.45      16.09\n",
              "4        순이익률       17.61       18.19  ...      10.49      13.98      12.58\n",
              "5   ROE(지배주주)       21.01       19.63  ...       8.49       9.51        NaN\n",
              "6        부채비율       40.68       36.97  ...      32.67      36.09        NaN\n",
              "7        당좌비율      181.61      204.12  ...     250.04     229.69        NaN\n",
              "8         유보율    24536.12    27531.92  ...   29477.97   30242.29        NaN\n",
              "9      EPS(원)     5421.00     6024.00  ...     808.00    1364.00    1101.00\n",
              "10     PER(배)        9.40        6.42  ...      16.52      15.89      60.51\n",
              "11     BPS(원)    30427.00    35342.00  ...   38534.00   39446.00   40401.00\n",
              "12     PBR(배)        1.67        1.09  ...       1.37       1.48       1.65\n",
              "13   주당배당금(원)      850.00     1416.00  ...        NaN        NaN        NaN\n",
              "14   시가배당률(%)        1.67        3.66  ...        NaN        NaN        NaN\n",
              "15    배당성향(%)       14.09       21.92  ...        NaN        NaN        NaN\n",
              "\n",
              "[16 rows x 11 columns]"
            ]
          },
          "metadata": {
            "tags": []
          },
          "execution_count": 12
        }
      ]
    },
    {
      "cell_type": "code",
      "metadata": {
        "id": "9L5lkvTwTMQK"
      },
      "source": [
        "fin_df = raw[0]"
      ],
      "execution_count": null,
      "outputs": []
    },
    {
      "cell_type": "code",
      "metadata": {
        "id": "rr1Ux8wGTShk",
        "colab": {
          "base_uri": "https://localhost:8080/",
          "height": 36
        },
        "outputId": "7a4fdfd7-de43-4c1a-9403-6eed711817c0"
      },
      "source": [
        "type(fin_df)"
      ],
      "execution_count": null,
      "outputs": [
        {
          "output_type": "execute_result",
          "data": {
            "text/plain": [
              "pandas.core.frame.DataFrame"
            ]
          },
          "metadata": {
            "tags": []
          },
          "execution_count": 12
        }
      ]
    },
    {
      "cell_type": "code",
      "metadata": {
        "id": "cViSwPpITaIU",
        "colab": {
          "base_uri": "https://localhost:8080/"
        },
        "outputId": "1032568b-bbe3-4b4d-c3f8-73249c60a17d"
      },
      "source": [
        "fin_df.columns"
      ],
      "execution_count": null,
      "outputs": [
        {
          "output_type": "execute_result",
          "data": {
            "text/plain": [
              "MultiIndex([(  '주요재무정보',     '주요재무정보', '주요재무정보'),\n",
              "            ('최근 연간 실적',    '2017.12', 'IFRS연결'),\n",
              "            ('최근 연간 실적',    '2018.12', 'IFRS연결'),\n",
              "            ('최근 연간 실적',    '2019.12', 'IFRS연결'),\n",
              "            ('최근 연간 실적', '2020.12(E)', 'IFRS연결'),\n",
              "            ('최근 분기 실적',    '2019.09', 'IFRS연결'),\n",
              "            ('최근 분기 실적',    '2019.12', 'IFRS연결'),\n",
              "            ('최근 분기 실적',    '2020.03', 'IFRS연결'),\n",
              "            ('최근 분기 실적',    '2020.06', 'IFRS연결'),\n",
              "            ('최근 분기 실적',    '2020.09', 'IFRS연결'),\n",
              "            ('최근 분기 실적', '2020.12(E)', 'IFRS연결')],\n",
              "           )"
            ]
          },
          "metadata": {
            "tags": []
          },
          "execution_count": 14
        }
      ]
    },
    {
      "cell_type": "code",
      "metadata": {
        "id": "1z6pXwwtTfGj",
        "colab": {
          "base_uri": "https://localhost:8080/"
        },
        "outputId": "67e43b87-8ea1-4e39-dab4-d860e63f731b"
      },
      "source": [
        "fin_df.columns.get_level_values(2)"
      ],
      "execution_count": null,
      "outputs": [
        {
          "output_type": "execute_result",
          "data": {
            "text/plain": [
              "Index(['주요재무정보', 'IFRS연결', 'IFRS연결', 'IFRS연결', 'IFRS연결', 'IFRS연결', 'IFRS연결',\n",
              "       'IFRS연결', 'IFRS연결', 'IFRS연결', 'IFRS연결'],\n",
              "      dtype='object')"
            ]
          },
          "metadata": {
            "tags": []
          },
          "execution_count": 15
        }
      ]
    },
    {
      "cell_type": "code",
      "metadata": {
        "id": "NQxTuac7Tx6p"
      },
      "source": [
        "fin_df.columns= fin_df.columns.get_level_values(1)"
      ],
      "execution_count": null,
      "outputs": []
    },
    {
      "cell_type": "code",
      "metadata": {
        "id": "3zxXeTPCUGkX",
        "colab": {
          "base_uri": "https://localhost:8080/",
          "height": 73
        },
        "outputId": "3f4f1dc8-b4e3-4519-df46-740b1474c7b0"
      },
      "source": [
        "fin_df.columns"
      ],
      "execution_count": null,
      "outputs": [
        {
          "output_type": "execute_result",
          "data": {
            "text/plain": [
              "Index(['주요재무정보', '2017.12', '2018.12', '2019.12', '2020.12(E)', '2019.06',\n",
              "       '2019.09', '2019.12', '2020.03', '2020.06', '2020.09(E)'],\n",
              "      dtype='object')"
            ]
          },
          "metadata": {
            "tags": []
          },
          "execution_count": 18
        }
      ]
    },
    {
      "cell_type": "code",
      "metadata": {
        "id": "-oYMlbRRUH9B"
      },
      "source": [
        "fin_df = fin_df.T"
      ],
      "execution_count": null,
      "outputs": []
    },
    {
      "cell_type": "code",
      "metadata": {
        "id": "Bdi5y1zzUQoU",
        "colab": {
          "base_uri": "https://localhost:8080/",
          "height": 403
        },
        "outputId": "cde3d720-1889-454a-940a-34b4d2509c6a"
      },
      "source": [
        "fin_df"
      ],
      "execution_count": null,
      "outputs": [
        {
          "output_type": "execute_result",
          "data": {
            "text/html": [
              "<div>\n",
              "<style scoped>\n",
              "    .dataframe tbody tr th:only-of-type {\n",
              "        vertical-align: middle;\n",
              "    }\n",
              "\n",
              "    .dataframe tbody tr th {\n",
              "        vertical-align: top;\n",
              "    }\n",
              "\n",
              "    .dataframe thead th {\n",
              "        text-align: right;\n",
              "    }\n",
              "</style>\n",
              "<table border=\"1\" class=\"dataframe\">\n",
              "  <thead>\n",
              "    <tr style=\"text-align: right;\">\n",
              "      <th></th>\n",
              "      <th>0</th>\n",
              "      <th>1</th>\n",
              "      <th>2</th>\n",
              "      <th>3</th>\n",
              "      <th>4</th>\n",
              "      <th>5</th>\n",
              "      <th>6</th>\n",
              "      <th>7</th>\n",
              "      <th>8</th>\n",
              "      <th>9</th>\n",
              "      <th>10</th>\n",
              "      <th>11</th>\n",
              "      <th>12</th>\n",
              "      <th>13</th>\n",
              "      <th>14</th>\n",
              "      <th>15</th>\n",
              "    </tr>\n",
              "  </thead>\n",
              "  <tbody>\n",
              "    <tr>\n",
              "      <th>주요재무정보</th>\n",
              "      <td>매출액</td>\n",
              "      <td>영업이익</td>\n",
              "      <td>당기순이익</td>\n",
              "      <td>영업이익률</td>\n",
              "      <td>순이익률</td>\n",
              "      <td>ROE(지배주주)</td>\n",
              "      <td>부채비율</td>\n",
              "      <td>당좌비율</td>\n",
              "      <td>유보율</td>\n",
              "      <td>EPS(원)</td>\n",
              "      <td>PER(배)</td>\n",
              "      <td>BPS(원)</td>\n",
              "      <td>PBR(배)</td>\n",
              "      <td>주당배당금(원)</td>\n",
              "      <td>시가배당률(%)</td>\n",
              "      <td>배당성향(%)</td>\n",
              "    </tr>\n",
              "    <tr>\n",
              "      <th>2017.12</th>\n",
              "      <td>2.39575e+06</td>\n",
              "      <td>536450</td>\n",
              "      <td>421867</td>\n",
              "      <td>22.39</td>\n",
              "      <td>17.61</td>\n",
              "      <td>21.01</td>\n",
              "      <td>40.68</td>\n",
              "      <td>181.61</td>\n",
              "      <td>24536.1</td>\n",
              "      <td>5421</td>\n",
              "      <td>9.4</td>\n",
              "      <td>30427</td>\n",
              "      <td>1.67</td>\n",
              "      <td>850</td>\n",
              "      <td>1.67</td>\n",
              "      <td>14.09</td>\n",
              "    </tr>\n",
              "    <tr>\n",
              "      <th>2018.12</th>\n",
              "      <td>2.43771e+06</td>\n",
              "      <td>588867</td>\n",
              "      <td>443449</td>\n",
              "      <td>24.16</td>\n",
              "      <td>18.19</td>\n",
              "      <td>19.63</td>\n",
              "      <td>36.97</td>\n",
              "      <td>204.12</td>\n",
              "      <td>27531.9</td>\n",
              "      <td>6024</td>\n",
              "      <td>6.42</td>\n",
              "      <td>35342</td>\n",
              "      <td>1.09</td>\n",
              "      <td>1416</td>\n",
              "      <td>3.66</td>\n",
              "      <td>21.92</td>\n",
              "    </tr>\n",
              "    <tr>\n",
              "      <th>2019.12</th>\n",
              "      <td>2.30401e+06</td>\n",
              "      <td>277685</td>\n",
              "      <td>217389</td>\n",
              "      <td>12.05</td>\n",
              "      <td>9.44</td>\n",
              "      <td>8.69</td>\n",
              "      <td>34.12</td>\n",
              "      <td>233.57</td>\n",
              "      <td>28856</td>\n",
              "      <td>3166</td>\n",
              "      <td>17.63</td>\n",
              "      <td>37528</td>\n",
              "      <td>1.49</td>\n",
              "      <td>1416</td>\n",
              "      <td>2.54</td>\n",
              "      <td>44.73</td>\n",
              "    </tr>\n",
              "    <tr>\n",
              "      <th>2020.12(E)</th>\n",
              "      <td>2.38404e+06</td>\n",
              "      <td>371055</td>\n",
              "      <td>278835</td>\n",
              "      <td>15.56</td>\n",
              "      <td>11.7</td>\n",
              "      <td>10.44</td>\n",
              "      <td>NaN</td>\n",
              "      <td>NaN</td>\n",
              "      <td>NaN</td>\n",
              "      <td>4069</td>\n",
              "      <td>16.37</td>\n",
              "      <td>40401</td>\n",
              "      <td>1.65</td>\n",
              "      <td>1561</td>\n",
              "      <td>NaN</td>\n",
              "      <td>NaN</td>\n",
              "    </tr>\n",
              "    <tr>\n",
              "      <th>2019.09</th>\n",
              "      <td>620035</td>\n",
              "      <td>77779</td>\n",
              "      <td>62877</td>\n",
              "      <td>12.54</td>\n",
              "      <td>10.14</td>\n",
              "      <td>10.05</td>\n",
              "      <td>34.14</td>\n",
              "      <td>235.8</td>\n",
              "      <td>28541.6</td>\n",
              "      <td>899</td>\n",
              "      <td>13.73</td>\n",
              "      <td>37600</td>\n",
              "      <td>1.3</td>\n",
              "      <td>NaN</td>\n",
              "      <td>NaN</td>\n",
              "      <td>NaN</td>\n",
              "    </tr>\n",
              "    <tr>\n",
              "      <th>2019.12</th>\n",
              "      <td>598848</td>\n",
              "      <td>71603</td>\n",
              "      <td>52270</td>\n",
              "      <td>11.96</td>\n",
              "      <td>8.73</td>\n",
              "      <td>8.69</td>\n",
              "      <td>34.12</td>\n",
              "      <td>233.57</td>\n",
              "      <td>28856</td>\n",
              "      <td>770</td>\n",
              "      <td>17.63</td>\n",
              "      <td>37528</td>\n",
              "      <td>1.49</td>\n",
              "      <td>NaN</td>\n",
              "      <td>NaN</td>\n",
              "      <td>NaN</td>\n",
              "    </tr>\n",
              "    <tr>\n",
              "      <th>2020.03</th>\n",
              "      <td>553252</td>\n",
              "      <td>64473</td>\n",
              "      <td>48849</td>\n",
              "      <td>11.65</td>\n",
              "      <td>8.83</td>\n",
              "      <td>8.45</td>\n",
              "      <td>34.19</td>\n",
              "      <td>237.8</td>\n",
              "      <td>29134.1</td>\n",
              "      <td>720</td>\n",
              "      <td>15.24</td>\n",
              "      <td>38053</td>\n",
              "      <td>1.25</td>\n",
              "      <td>NaN</td>\n",
              "      <td>NaN</td>\n",
              "      <td>NaN</td>\n",
              "    </tr>\n",
              "    <tr>\n",
              "      <th>2020.06</th>\n",
              "      <td>529661</td>\n",
              "      <td>81463</td>\n",
              "      <td>55551</td>\n",
              "      <td>15.38</td>\n",
              "      <td>10.49</td>\n",
              "      <td>8.49</td>\n",
              "      <td>32.67</td>\n",
              "      <td>250.04</td>\n",
              "      <td>29478</td>\n",
              "      <td>808</td>\n",
              "      <td>16.52</td>\n",
              "      <td>38534</td>\n",
              "      <td>1.37</td>\n",
              "      <td>NaN</td>\n",
              "      <td>NaN</td>\n",
              "      <td>NaN</td>\n",
              "    </tr>\n",
              "    <tr>\n",
              "      <th>2020.09</th>\n",
              "      <td>669642</td>\n",
              "      <td>123532</td>\n",
              "      <td>93607</td>\n",
              "      <td>18.45</td>\n",
              "      <td>13.98</td>\n",
              "      <td>9.51</td>\n",
              "      <td>36.09</td>\n",
              "      <td>229.69</td>\n",
              "      <td>30242.3</td>\n",
              "      <td>1364</td>\n",
              "      <td>15.89</td>\n",
              "      <td>39446</td>\n",
              "      <td>1.48</td>\n",
              "      <td>NaN</td>\n",
              "      <td>NaN</td>\n",
              "      <td>NaN</td>\n",
              "    </tr>\n",
              "    <tr>\n",
              "      <th>2020.12(E)</th>\n",
              "      <td>631513</td>\n",
              "      <td>101611</td>\n",
              "      <td>79444</td>\n",
              "      <td>16.09</td>\n",
              "      <td>12.58</td>\n",
              "      <td>NaN</td>\n",
              "      <td>NaN</td>\n",
              "      <td>NaN</td>\n",
              "      <td>NaN</td>\n",
              "      <td>1101</td>\n",
              "      <td>60.51</td>\n",
              "      <td>40401</td>\n",
              "      <td>1.65</td>\n",
              "      <td>NaN</td>\n",
              "      <td>NaN</td>\n",
              "      <td>NaN</td>\n",
              "    </tr>\n",
              "  </tbody>\n",
              "</table>\n",
              "</div>"
            ],
            "text/plain": [
              "                     0       1       2   ...        13        14       15\n",
              "주요재무정보              매출액    영업이익   당기순이익  ...  주당배당금(원)  시가배당률(%)  배당성향(%)\n",
              "2017.12     2.39575e+06  536450  421867  ...       850      1.67    14.09\n",
              "2018.12     2.43771e+06  588867  443449  ...      1416      3.66    21.92\n",
              "2019.12     2.30401e+06  277685  217389  ...      1416      2.54    44.73\n",
              "2020.12(E)  2.38404e+06  371055  278835  ...      1561       NaN      NaN\n",
              "2019.09          620035   77779   62877  ...       NaN       NaN      NaN\n",
              "2019.12          598848   71603   52270  ...       NaN       NaN      NaN\n",
              "2020.03          553252   64473   48849  ...       NaN       NaN      NaN\n",
              "2020.06          529661   81463   55551  ...       NaN       NaN      NaN\n",
              "2020.09          669642  123532   93607  ...       NaN       NaN      NaN\n",
              "2020.12(E)       631513  101611   79444  ...       NaN       NaN      NaN\n",
              "\n",
              "[11 rows x 16 columns]"
            ]
          },
          "metadata": {
            "tags": []
          },
          "execution_count": 18
        }
      ]
    },
    {
      "cell_type": "code",
      "metadata": {
        "id": "bBHFEcUvUR2I"
      },
      "source": [
        "fin_df.columns = fin_df.iloc[0,:]"
      ],
      "execution_count": null,
      "outputs": []
    },
    {
      "cell_type": "code",
      "metadata": {
        "id": "P_PFJgEBUXvf",
        "colab": {
          "base_uri": "https://localhost:8080/",
          "height": 271
        },
        "outputId": "07cb3cd3-68eb-44a1-a92e-76f7d751dbed"
      },
      "source": [
        "fin_df.head()"
      ],
      "execution_count": null,
      "outputs": [
        {
          "output_type": "execute_result",
          "data": {
            "text/html": [
              "<div>\n",
              "<style scoped>\n",
              "    .dataframe tbody tr th:only-of-type {\n",
              "        vertical-align: middle;\n",
              "    }\n",
              "\n",
              "    .dataframe tbody tr th {\n",
              "        vertical-align: top;\n",
              "    }\n",
              "\n",
              "    .dataframe thead th {\n",
              "        text-align: right;\n",
              "    }\n",
              "</style>\n",
              "<table border=\"1\" class=\"dataframe\">\n",
              "  <thead>\n",
              "    <tr style=\"text-align: right;\">\n",
              "      <th>주요재무정보</th>\n",
              "      <th>매출액</th>\n",
              "      <th>영업이익</th>\n",
              "      <th>당기순이익</th>\n",
              "      <th>영업이익률</th>\n",
              "      <th>순이익률</th>\n",
              "      <th>ROE(지배주주)</th>\n",
              "      <th>부채비율</th>\n",
              "      <th>당좌비율</th>\n",
              "      <th>유보율</th>\n",
              "      <th>EPS(원)</th>\n",
              "      <th>PER(배)</th>\n",
              "      <th>BPS(원)</th>\n",
              "      <th>PBR(배)</th>\n",
              "      <th>주당배당금(원)</th>\n",
              "      <th>시가배당률(%)</th>\n",
              "      <th>배당성향(%)</th>\n",
              "    </tr>\n",
              "  </thead>\n",
              "  <tbody>\n",
              "    <tr>\n",
              "      <th>주요재무정보</th>\n",
              "      <td>매출액</td>\n",
              "      <td>영업이익</td>\n",
              "      <td>당기순이익</td>\n",
              "      <td>영업이익률</td>\n",
              "      <td>순이익률</td>\n",
              "      <td>ROE(지배주주)</td>\n",
              "      <td>부채비율</td>\n",
              "      <td>당좌비율</td>\n",
              "      <td>유보율</td>\n",
              "      <td>EPS(원)</td>\n",
              "      <td>PER(배)</td>\n",
              "      <td>BPS(원)</td>\n",
              "      <td>PBR(배)</td>\n",
              "      <td>주당배당금(원)</td>\n",
              "      <td>시가배당률(%)</td>\n",
              "      <td>배당성향(%)</td>\n",
              "    </tr>\n",
              "    <tr>\n",
              "      <th>2017.12</th>\n",
              "      <td>2.39575e+06</td>\n",
              "      <td>536450</td>\n",
              "      <td>421867</td>\n",
              "      <td>22.39</td>\n",
              "      <td>17.61</td>\n",
              "      <td>21.01</td>\n",
              "      <td>40.68</td>\n",
              "      <td>181.61</td>\n",
              "      <td>24536.1</td>\n",
              "      <td>5421</td>\n",
              "      <td>9.4</td>\n",
              "      <td>30427</td>\n",
              "      <td>1.67</td>\n",
              "      <td>850</td>\n",
              "      <td>1.67</td>\n",
              "      <td>14.09</td>\n",
              "    </tr>\n",
              "    <tr>\n",
              "      <th>2018.12</th>\n",
              "      <td>2.43771e+06</td>\n",
              "      <td>588867</td>\n",
              "      <td>443449</td>\n",
              "      <td>24.16</td>\n",
              "      <td>18.19</td>\n",
              "      <td>19.63</td>\n",
              "      <td>36.97</td>\n",
              "      <td>204.12</td>\n",
              "      <td>27531.9</td>\n",
              "      <td>6024</td>\n",
              "      <td>6.42</td>\n",
              "      <td>35342</td>\n",
              "      <td>1.09</td>\n",
              "      <td>1416</td>\n",
              "      <td>3.66</td>\n",
              "      <td>21.92</td>\n",
              "    </tr>\n",
              "    <tr>\n",
              "      <th>2019.12</th>\n",
              "      <td>2.30401e+06</td>\n",
              "      <td>277685</td>\n",
              "      <td>217389</td>\n",
              "      <td>12.05</td>\n",
              "      <td>9.44</td>\n",
              "      <td>8.69</td>\n",
              "      <td>34.12</td>\n",
              "      <td>233.57</td>\n",
              "      <td>28856</td>\n",
              "      <td>3166</td>\n",
              "      <td>17.63</td>\n",
              "      <td>37528</td>\n",
              "      <td>1.49</td>\n",
              "      <td>1416</td>\n",
              "      <td>2.54</td>\n",
              "      <td>44.73</td>\n",
              "    </tr>\n",
              "    <tr>\n",
              "      <th>2020.12(E)</th>\n",
              "      <td>2.38404e+06</td>\n",
              "      <td>371055</td>\n",
              "      <td>278835</td>\n",
              "      <td>15.56</td>\n",
              "      <td>11.7</td>\n",
              "      <td>10.44</td>\n",
              "      <td>NaN</td>\n",
              "      <td>NaN</td>\n",
              "      <td>NaN</td>\n",
              "      <td>4069</td>\n",
              "      <td>16.37</td>\n",
              "      <td>40401</td>\n",
              "      <td>1.65</td>\n",
              "      <td>1561</td>\n",
              "      <td>NaN</td>\n",
              "      <td>NaN</td>\n",
              "    </tr>\n",
              "  </tbody>\n",
              "</table>\n",
              "</div>"
            ],
            "text/plain": [
              "주요재무정보              매출액    영업이익   당기순이익  ...  주당배당금(원)  시가배당률(%)  배당성향(%)\n",
              "주요재무정보              매출액    영업이익   당기순이익  ...  주당배당금(원)  시가배당률(%)  배당성향(%)\n",
              "2017.12     2.39575e+06  536450  421867  ...       850      1.67    14.09\n",
              "2018.12     2.43771e+06  588867  443449  ...      1416      3.66    21.92\n",
              "2019.12     2.30401e+06  277685  217389  ...      1416      2.54    44.73\n",
              "2020.12(E)  2.38404e+06  371055  278835  ...      1561       NaN      NaN\n",
              "\n",
              "[5 rows x 16 columns]"
            ]
          },
          "metadata": {
            "tags": []
          },
          "execution_count": 20
        }
      ]
    },
    {
      "cell_type": "code",
      "metadata": {
        "id": "QYKLRIEZUdWP"
      },
      "source": [
        "fin_df.drop(['주요재무정보'], inplace=True)"
      ],
      "execution_count": null,
      "outputs": []
    },
    {
      "cell_type": "code",
      "metadata": {
        "id": "J_2xm2ylUxtg",
        "colab": {
          "base_uri": "https://localhost:8080/",
          "height": 390
        },
        "outputId": "3f37010b-454d-4d1c-e91e-9633285dc395"
      },
      "source": [
        "fin_df"
      ],
      "execution_count": null,
      "outputs": [
        {
          "output_type": "execute_result",
          "data": {
            "text/html": [
              "<div>\n",
              "<style scoped>\n",
              "    .dataframe tbody tr th:only-of-type {\n",
              "        vertical-align: middle;\n",
              "    }\n",
              "\n",
              "    .dataframe tbody tr th {\n",
              "        vertical-align: top;\n",
              "    }\n",
              "\n",
              "    .dataframe thead th {\n",
              "        text-align: right;\n",
              "    }\n",
              "</style>\n",
              "<table border=\"1\" class=\"dataframe\">\n",
              "  <thead>\n",
              "    <tr style=\"text-align: right;\">\n",
              "      <th>주요재무정보</th>\n",
              "      <th>매출액</th>\n",
              "      <th>영업이익</th>\n",
              "      <th>당기순이익</th>\n",
              "      <th>영업이익률</th>\n",
              "      <th>순이익률</th>\n",
              "      <th>ROE(지배주주)</th>\n",
              "      <th>부채비율</th>\n",
              "      <th>당좌비율</th>\n",
              "      <th>유보율</th>\n",
              "      <th>EPS(원)</th>\n",
              "      <th>PER(배)</th>\n",
              "      <th>BPS(원)</th>\n",
              "      <th>PBR(배)</th>\n",
              "      <th>주당배당금(원)</th>\n",
              "      <th>시가배당률(%)</th>\n",
              "      <th>배당성향(%)</th>\n",
              "    </tr>\n",
              "  </thead>\n",
              "  <tbody>\n",
              "    <tr>\n",
              "      <th>2017.12</th>\n",
              "      <td>2.39575e+06</td>\n",
              "      <td>536450</td>\n",
              "      <td>421867</td>\n",
              "      <td>22.39</td>\n",
              "      <td>17.61</td>\n",
              "      <td>21.01</td>\n",
              "      <td>40.68</td>\n",
              "      <td>181.61</td>\n",
              "      <td>24536.1</td>\n",
              "      <td>5421</td>\n",
              "      <td>9.4</td>\n",
              "      <td>30427</td>\n",
              "      <td>1.67</td>\n",
              "      <td>850</td>\n",
              "      <td>1.67</td>\n",
              "      <td>14.09</td>\n",
              "    </tr>\n",
              "    <tr>\n",
              "      <th>2018.12</th>\n",
              "      <td>2.43771e+06</td>\n",
              "      <td>588867</td>\n",
              "      <td>443449</td>\n",
              "      <td>24.16</td>\n",
              "      <td>18.19</td>\n",
              "      <td>19.63</td>\n",
              "      <td>36.97</td>\n",
              "      <td>204.12</td>\n",
              "      <td>27531.9</td>\n",
              "      <td>6024</td>\n",
              "      <td>6.42</td>\n",
              "      <td>35342</td>\n",
              "      <td>1.09</td>\n",
              "      <td>1416</td>\n",
              "      <td>3.66</td>\n",
              "      <td>21.92</td>\n",
              "    </tr>\n",
              "    <tr>\n",
              "      <th>2019.12</th>\n",
              "      <td>2.30401e+06</td>\n",
              "      <td>277685</td>\n",
              "      <td>217389</td>\n",
              "      <td>12.05</td>\n",
              "      <td>9.44</td>\n",
              "      <td>8.69</td>\n",
              "      <td>34.12</td>\n",
              "      <td>233.57</td>\n",
              "      <td>28856</td>\n",
              "      <td>3166</td>\n",
              "      <td>17.63</td>\n",
              "      <td>37528</td>\n",
              "      <td>1.49</td>\n",
              "      <td>1416</td>\n",
              "      <td>2.54</td>\n",
              "      <td>44.73</td>\n",
              "    </tr>\n",
              "    <tr>\n",
              "      <th>2020.12(E)</th>\n",
              "      <td>2.38404e+06</td>\n",
              "      <td>371055</td>\n",
              "      <td>278835</td>\n",
              "      <td>15.56</td>\n",
              "      <td>11.7</td>\n",
              "      <td>10.44</td>\n",
              "      <td>NaN</td>\n",
              "      <td>NaN</td>\n",
              "      <td>NaN</td>\n",
              "      <td>4069</td>\n",
              "      <td>16.37</td>\n",
              "      <td>40401</td>\n",
              "      <td>1.65</td>\n",
              "      <td>1561</td>\n",
              "      <td>NaN</td>\n",
              "      <td>NaN</td>\n",
              "    </tr>\n",
              "    <tr>\n",
              "      <th>2019.09</th>\n",
              "      <td>620035</td>\n",
              "      <td>77779</td>\n",
              "      <td>62877</td>\n",
              "      <td>12.54</td>\n",
              "      <td>10.14</td>\n",
              "      <td>10.05</td>\n",
              "      <td>34.14</td>\n",
              "      <td>235.8</td>\n",
              "      <td>28541.6</td>\n",
              "      <td>899</td>\n",
              "      <td>13.73</td>\n",
              "      <td>37600</td>\n",
              "      <td>1.3</td>\n",
              "      <td>NaN</td>\n",
              "      <td>NaN</td>\n",
              "      <td>NaN</td>\n",
              "    </tr>\n",
              "    <tr>\n",
              "      <th>2019.12</th>\n",
              "      <td>598848</td>\n",
              "      <td>71603</td>\n",
              "      <td>52270</td>\n",
              "      <td>11.96</td>\n",
              "      <td>8.73</td>\n",
              "      <td>8.69</td>\n",
              "      <td>34.12</td>\n",
              "      <td>233.57</td>\n",
              "      <td>28856</td>\n",
              "      <td>770</td>\n",
              "      <td>17.63</td>\n",
              "      <td>37528</td>\n",
              "      <td>1.49</td>\n",
              "      <td>NaN</td>\n",
              "      <td>NaN</td>\n",
              "      <td>NaN</td>\n",
              "    </tr>\n",
              "    <tr>\n",
              "      <th>2020.03</th>\n",
              "      <td>553252</td>\n",
              "      <td>64473</td>\n",
              "      <td>48849</td>\n",
              "      <td>11.65</td>\n",
              "      <td>8.83</td>\n",
              "      <td>8.45</td>\n",
              "      <td>34.19</td>\n",
              "      <td>237.8</td>\n",
              "      <td>29134.1</td>\n",
              "      <td>720</td>\n",
              "      <td>15.24</td>\n",
              "      <td>38053</td>\n",
              "      <td>1.25</td>\n",
              "      <td>NaN</td>\n",
              "      <td>NaN</td>\n",
              "      <td>NaN</td>\n",
              "    </tr>\n",
              "    <tr>\n",
              "      <th>2020.06</th>\n",
              "      <td>529661</td>\n",
              "      <td>81463</td>\n",
              "      <td>55551</td>\n",
              "      <td>15.38</td>\n",
              "      <td>10.49</td>\n",
              "      <td>8.49</td>\n",
              "      <td>32.67</td>\n",
              "      <td>250.04</td>\n",
              "      <td>29478</td>\n",
              "      <td>808</td>\n",
              "      <td>16.52</td>\n",
              "      <td>38534</td>\n",
              "      <td>1.37</td>\n",
              "      <td>NaN</td>\n",
              "      <td>NaN</td>\n",
              "      <td>NaN</td>\n",
              "    </tr>\n",
              "    <tr>\n",
              "      <th>2020.09</th>\n",
              "      <td>669642</td>\n",
              "      <td>123532</td>\n",
              "      <td>93607</td>\n",
              "      <td>18.45</td>\n",
              "      <td>13.98</td>\n",
              "      <td>9.51</td>\n",
              "      <td>36.09</td>\n",
              "      <td>229.69</td>\n",
              "      <td>30242.3</td>\n",
              "      <td>1364</td>\n",
              "      <td>15.89</td>\n",
              "      <td>39446</td>\n",
              "      <td>1.48</td>\n",
              "      <td>NaN</td>\n",
              "      <td>NaN</td>\n",
              "      <td>NaN</td>\n",
              "    </tr>\n",
              "    <tr>\n",
              "      <th>2020.12(E)</th>\n",
              "      <td>631513</td>\n",
              "      <td>101611</td>\n",
              "      <td>79444</td>\n",
              "      <td>16.09</td>\n",
              "      <td>12.58</td>\n",
              "      <td>NaN</td>\n",
              "      <td>NaN</td>\n",
              "      <td>NaN</td>\n",
              "      <td>NaN</td>\n",
              "      <td>1101</td>\n",
              "      <td>60.51</td>\n",
              "      <td>40401</td>\n",
              "      <td>1.65</td>\n",
              "      <td>NaN</td>\n",
              "      <td>NaN</td>\n",
              "      <td>NaN</td>\n",
              "    </tr>\n",
              "  </tbody>\n",
              "</table>\n",
              "</div>"
            ],
            "text/plain": [
              "주요재무정보              매출액    영업이익   당기순이익  영업이익률  ... PBR(배) 주당배당금(원) 시가배당률(%) 배당성향(%)\n",
              "2017.12     2.39575e+06  536450  421867  22.39  ...   1.67      850     1.67   14.09\n",
              "2018.12     2.43771e+06  588867  443449  24.16  ...   1.09     1416     3.66   21.92\n",
              "2019.12     2.30401e+06  277685  217389  12.05  ...   1.49     1416     2.54   44.73\n",
              "2020.12(E)  2.38404e+06  371055  278835  15.56  ...   1.65     1561      NaN     NaN\n",
              "2019.09          620035   77779   62877  12.54  ...    1.3      NaN      NaN     NaN\n",
              "2019.12          598848   71603   52270  11.96  ...   1.49      NaN      NaN     NaN\n",
              "2020.03          553252   64473   48849  11.65  ...   1.25      NaN      NaN     NaN\n",
              "2020.06          529661   81463   55551  15.38  ...   1.37      NaN      NaN     NaN\n",
              "2020.09          669642  123532   93607  18.45  ...   1.48      NaN      NaN     NaN\n",
              "2020.12(E)       631513  101611   79444  16.09  ...   1.65      NaN      NaN     NaN\n",
              "\n",
              "[10 rows x 16 columns]"
            ]
          },
          "metadata": {
            "tags": []
          },
          "execution_count": 22
        }
      ]
    },
    {
      "cell_type": "code",
      "metadata": {
        "id": "xoeOksQCVFSZ"
      },
      "source": [
        "fin_df = fin_df.query('index==\"2020.06\"')"
      ],
      "execution_count": null,
      "outputs": []
    },
    {
      "cell_type": "code",
      "metadata": {
        "id": "R8Q9ktzkQUPO",
        "colab": {
          "base_uri": "https://localhost:8080/",
          "height": 114
        },
        "outputId": "3fd6cd27-7c10-4eff-9afa-875c12c3ea71"
      },
      "source": [
        "fin_df"
      ],
      "execution_count": null,
      "outputs": [
        {
          "output_type": "execute_result",
          "data": {
            "text/html": [
              "<div>\n",
              "<style scoped>\n",
              "    .dataframe tbody tr th:only-of-type {\n",
              "        vertical-align: middle;\n",
              "    }\n",
              "\n",
              "    .dataframe tbody tr th {\n",
              "        vertical-align: top;\n",
              "    }\n",
              "\n",
              "    .dataframe thead th {\n",
              "        text-align: right;\n",
              "    }\n",
              "</style>\n",
              "<table border=\"1\" class=\"dataframe\">\n",
              "  <thead>\n",
              "    <tr style=\"text-align: right;\">\n",
              "      <th>주요재무정보</th>\n",
              "      <th>매출액</th>\n",
              "      <th>영업이익</th>\n",
              "      <th>당기순이익</th>\n",
              "      <th>영업이익률</th>\n",
              "      <th>순이익률</th>\n",
              "      <th>ROE(지배주주)</th>\n",
              "      <th>부채비율</th>\n",
              "      <th>당좌비율</th>\n",
              "      <th>유보율</th>\n",
              "      <th>EPS(원)</th>\n",
              "      <th>PER(배)</th>\n",
              "      <th>BPS(원)</th>\n",
              "      <th>PBR(배)</th>\n",
              "      <th>주당배당금(원)</th>\n",
              "      <th>시가배당률(%)</th>\n",
              "      <th>배당성향(%)</th>\n",
              "    </tr>\n",
              "  </thead>\n",
              "  <tbody>\n",
              "    <tr>\n",
              "      <th>2020.06</th>\n",
              "      <td>529661</td>\n",
              "      <td>81463</td>\n",
              "      <td>55551</td>\n",
              "      <td>15.38</td>\n",
              "      <td>10.49</td>\n",
              "      <td>8.49</td>\n",
              "      <td>32.67</td>\n",
              "      <td>250.04</td>\n",
              "      <td>29478</td>\n",
              "      <td>808</td>\n",
              "      <td>16.52</td>\n",
              "      <td>38534</td>\n",
              "      <td>1.37</td>\n",
              "      <td>NaN</td>\n",
              "      <td>NaN</td>\n",
              "      <td>NaN</td>\n",
              "    </tr>\n",
              "  </tbody>\n",
              "</table>\n",
              "</div>"
            ],
            "text/plain": [
              "주요재무정보      매출액   영업이익  당기순이익  영업이익률  ... PBR(배) 주당배당금(원) 시가배당률(%) 배당성향(%)\n",
              "2020.06  529661  81463  55551  15.38  ...   1.37      NaN      NaN     NaN\n",
              "\n",
              "[1 rows x 16 columns]"
            ]
          },
          "metadata": {
            "tags": []
          },
          "execution_count": 24
        }
      ]
    },
    {
      "cell_type": "code",
      "metadata": {
        "id": "0UeU4m6FQdlp"
      },
      "source": [
        ""
      ],
      "execution_count": null,
      "outputs": []
    }
  ]
}