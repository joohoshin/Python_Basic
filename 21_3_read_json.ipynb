{
  "nbformat": 4,
  "nbformat_minor": 0,
  "metadata": {
    "colab": {
      "name": "21-3. read_json.ipynb",
      "provenance": [],
      "authorship_tag": "ABX9TyPErn0cFS3mDSGrDy5PMqvy",
      "include_colab_link": true
    },
    "kernelspec": {
      "name": "python3",
      "display_name": "Python 3"
    }
  },
  "cells": [
    {
      "cell_type": "markdown",
      "metadata": {
        "id": "view-in-github",
        "colab_type": "text"
      },
      "source": [
        "<a href=\"https://colab.research.google.com/github/joohoshin/Python_Basic/blob/master/21_3_read_json.ipynb\" target=\"_parent\"><img src=\"https://colab.research.google.com/assets/colab-badge.svg\" alt=\"Open In Colab\"/></a>"
      ]
    },
    {
      "cell_type": "markdown",
      "metadata": {
        "id": "fg2SxktFJta8"
      },
      "source": [
        "pandas의 read_json을 통해 json 파일을 읽을 수 있습니다. \n",
        "인터넷에서 데이터를 주고 받을 때 많이 사용되는 형식입니다. \n",
        "\n",
        "아래의 예제 데이터를 불러와보겠습니다. \n",
        "\n",
        "https://jsonplaceholder.typicode.com"
      ]
    },
    {
      "cell_type": "code",
      "metadata": {
        "id": "EmGNWi8zJ1LG"
      },
      "source": [
        "import pandas as pd\n",
        "todo = pd.read_json('https://jsonplaceholder.typicode.com/todos')"
      ],
      "execution_count": null,
      "outputs": []
    },
    {
      "cell_type": "code",
      "metadata": {
        "colab": {
          "base_uri": "https://localhost:8080/",
          "height": 415
        },
        "id": "Pn9F1XcQKAGm",
        "outputId": "a27eb53a-9f56-4c81-afcb-4c4fe441feac"
      },
      "source": [
        "todo"
      ],
      "execution_count": null,
      "outputs": [
        {
          "output_type": "execute_result",
          "data": {
            "text/html": [
              "<div>\n",
              "<style scoped>\n",
              "    .dataframe tbody tr th:only-of-type {\n",
              "        vertical-align: middle;\n",
              "    }\n",
              "\n",
              "    .dataframe tbody tr th {\n",
              "        vertical-align: top;\n",
              "    }\n",
              "\n",
              "    .dataframe thead th {\n",
              "        text-align: right;\n",
              "    }\n",
              "</style>\n",
              "<table border=\"1\" class=\"dataframe\">\n",
              "  <thead>\n",
              "    <tr style=\"text-align: right;\">\n",
              "      <th></th>\n",
              "      <th>userId</th>\n",
              "      <th>id</th>\n",
              "      <th>title</th>\n",
              "      <th>completed</th>\n",
              "    </tr>\n",
              "  </thead>\n",
              "  <tbody>\n",
              "    <tr>\n",
              "      <th>0</th>\n",
              "      <td>1</td>\n",
              "      <td>1</td>\n",
              "      <td>delectus aut autem</td>\n",
              "      <td>False</td>\n",
              "    </tr>\n",
              "    <tr>\n",
              "      <th>1</th>\n",
              "      <td>1</td>\n",
              "      <td>2</td>\n",
              "      <td>quis ut nam facilis et officia qui</td>\n",
              "      <td>False</td>\n",
              "    </tr>\n",
              "    <tr>\n",
              "      <th>2</th>\n",
              "      <td>1</td>\n",
              "      <td>3</td>\n",
              "      <td>fugiat veniam minus</td>\n",
              "      <td>False</td>\n",
              "    </tr>\n",
              "    <tr>\n",
              "      <th>3</th>\n",
              "      <td>1</td>\n",
              "      <td>4</td>\n",
              "      <td>et porro tempora</td>\n",
              "      <td>True</td>\n",
              "    </tr>\n",
              "    <tr>\n",
              "      <th>4</th>\n",
              "      <td>1</td>\n",
              "      <td>5</td>\n",
              "      <td>laboriosam mollitia et enim quasi adipisci qui...</td>\n",
              "      <td>False</td>\n",
              "    </tr>\n",
              "    <tr>\n",
              "      <th>...</th>\n",
              "      <td>...</td>\n",
              "      <td>...</td>\n",
              "      <td>...</td>\n",
              "      <td>...</td>\n",
              "    </tr>\n",
              "    <tr>\n",
              "      <th>195</th>\n",
              "      <td>10</td>\n",
              "      <td>196</td>\n",
              "      <td>consequuntur aut ut fugit similique</td>\n",
              "      <td>True</td>\n",
              "    </tr>\n",
              "    <tr>\n",
              "      <th>196</th>\n",
              "      <td>10</td>\n",
              "      <td>197</td>\n",
              "      <td>dignissimos quo nobis earum saepe</td>\n",
              "      <td>True</td>\n",
              "    </tr>\n",
              "    <tr>\n",
              "      <th>197</th>\n",
              "      <td>10</td>\n",
              "      <td>198</td>\n",
              "      <td>quis eius est sint explicabo</td>\n",
              "      <td>True</td>\n",
              "    </tr>\n",
              "    <tr>\n",
              "      <th>198</th>\n",
              "      <td>10</td>\n",
              "      <td>199</td>\n",
              "      <td>numquam repellendus a magnam</td>\n",
              "      <td>True</td>\n",
              "    </tr>\n",
              "    <tr>\n",
              "      <th>199</th>\n",
              "      <td>10</td>\n",
              "      <td>200</td>\n",
              "      <td>ipsam aperiam voluptates qui</td>\n",
              "      <td>False</td>\n",
              "    </tr>\n",
              "  </tbody>\n",
              "</table>\n",
              "<p>200 rows × 4 columns</p>\n",
              "</div>"
            ],
            "text/plain": [
              "     userId   id                                              title  completed\n",
              "0         1    1                                 delectus aut autem      False\n",
              "1         1    2                 quis ut nam facilis et officia qui      False\n",
              "2         1    3                                fugiat veniam minus      False\n",
              "3         1    4                                   et porro tempora       True\n",
              "4         1    5  laboriosam mollitia et enim quasi adipisci qui...      False\n",
              "..      ...  ...                                                ...        ...\n",
              "195      10  196                consequuntur aut ut fugit similique       True\n",
              "196      10  197                  dignissimos quo nobis earum saepe       True\n",
              "197      10  198                       quis eius est sint explicabo       True\n",
              "198      10  199                       numquam repellendus a magnam       True\n",
              "199      10  200                       ipsam aperiam voluptates qui      False\n",
              "\n",
              "[200 rows x 4 columns]"
            ]
          },
          "metadata": {
            "tags": []
          },
          "execution_count": 8
        }
      ]
    },
    {
      "cell_type": "code",
      "metadata": {
        "colab": {
          "base_uri": "https://localhost:8080/"
        },
        "id": "7w94Fq5oBUyv",
        "outputId": "0c2e187d-a355-47c4-ff11-6f85209b3a86"
      },
      "source": [
        "todo.userId.value_counts()"
      ],
      "execution_count": null,
      "outputs": [
        {
          "output_type": "execute_result",
          "data": {
            "text/plain": [
              "10    20\n",
              "9     20\n",
              "8     20\n",
              "7     20\n",
              "6     20\n",
              "5     20\n",
              "4     20\n",
              "3     20\n",
              "2     20\n",
              "1     20\n",
              "Name: userId, dtype: int64"
            ]
          },
          "metadata": {
            "tags": []
          },
          "execution_count": 9
        }
      ]
    },
    {
      "cell_type": "code",
      "metadata": {
        "id": "ZNBxWQ5uKErf"
      },
      "source": [
        "import pandas as pd\n",
        "users = pd.read_json('https://jsonplaceholder.typicode.com/users')"
      ],
      "execution_count": null,
      "outputs": []
    },
    {
      "cell_type": "code",
      "metadata": {
        "colab": {
          "base_uri": "https://localhost:8080/",
          "height": 529
        },
        "id": "I6vc6DS-KOe_",
        "outputId": "1826ed11-d669-4490-f65d-487463a1b05f"
      },
      "source": [
        "users"
      ],
      "execution_count": null,
      "outputs": [
        {
          "output_type": "execute_result",
          "data": {
            "text/html": [
              "<div>\n",
              "<style scoped>\n",
              "    .dataframe tbody tr th:only-of-type {\n",
              "        vertical-align: middle;\n",
              "    }\n",
              "\n",
              "    .dataframe tbody tr th {\n",
              "        vertical-align: top;\n",
              "    }\n",
              "\n",
              "    .dataframe thead th {\n",
              "        text-align: right;\n",
              "    }\n",
              "</style>\n",
              "<table border=\"1\" class=\"dataframe\">\n",
              "  <thead>\n",
              "    <tr style=\"text-align: right;\">\n",
              "      <th></th>\n",
              "      <th>id</th>\n",
              "      <th>name</th>\n",
              "      <th>username</th>\n",
              "      <th>email</th>\n",
              "      <th>address</th>\n",
              "      <th>phone</th>\n",
              "      <th>website</th>\n",
              "      <th>company</th>\n",
              "    </tr>\n",
              "  </thead>\n",
              "  <tbody>\n",
              "    <tr>\n",
              "      <th>0</th>\n",
              "      <td>1</td>\n",
              "      <td>Leanne Graham</td>\n",
              "      <td>Bret</td>\n",
              "      <td>Sincere@april.biz</td>\n",
              "      <td>{'street': 'Kulas Light', 'suite': 'Apt. 556',...</td>\n",
              "      <td>1-770-736-8031 x56442</td>\n",
              "      <td>hildegard.org</td>\n",
              "      <td>{'name': 'Romaguera-Crona', 'catchPhrase': 'Mu...</td>\n",
              "    </tr>\n",
              "    <tr>\n",
              "      <th>1</th>\n",
              "      <td>2</td>\n",
              "      <td>Ervin Howell</td>\n",
              "      <td>Antonette</td>\n",
              "      <td>Shanna@melissa.tv</td>\n",
              "      <td>{'street': 'Victor Plains', 'suite': 'Suite 87...</td>\n",
              "      <td>010-692-6593 x09125</td>\n",
              "      <td>anastasia.net</td>\n",
              "      <td>{'name': 'Deckow-Crist', 'catchPhrase': 'Proac...</td>\n",
              "    </tr>\n",
              "    <tr>\n",
              "      <th>2</th>\n",
              "      <td>3</td>\n",
              "      <td>Clementine Bauch</td>\n",
              "      <td>Samantha</td>\n",
              "      <td>Nathan@yesenia.net</td>\n",
              "      <td>{'street': 'Douglas Extension', 'suite': 'Suit...</td>\n",
              "      <td>1-463-123-4447</td>\n",
              "      <td>ramiro.info</td>\n",
              "      <td>{'name': 'Romaguera-Jacobson', 'catchPhrase': ...</td>\n",
              "    </tr>\n",
              "    <tr>\n",
              "      <th>3</th>\n",
              "      <td>4</td>\n",
              "      <td>Patricia Lebsack</td>\n",
              "      <td>Karianne</td>\n",
              "      <td>Julianne.OConner@kory.org</td>\n",
              "      <td>{'street': 'Hoeger Mall', 'suite': 'Apt. 692',...</td>\n",
              "      <td>493-170-9623 x156</td>\n",
              "      <td>kale.biz</td>\n",
              "      <td>{'name': 'Robel-Corkery', 'catchPhrase': 'Mult...</td>\n",
              "    </tr>\n",
              "    <tr>\n",
              "      <th>4</th>\n",
              "      <td>5</td>\n",
              "      <td>Chelsey Dietrich</td>\n",
              "      <td>Kamren</td>\n",
              "      <td>Lucio_Hettinger@annie.ca</td>\n",
              "      <td>{'street': 'Skiles Walks', 'suite': 'Suite 351...</td>\n",
              "      <td>(254)954-1289</td>\n",
              "      <td>demarco.info</td>\n",
              "      <td>{'name': 'Keebler LLC', 'catchPhrase': 'User-c...</td>\n",
              "    </tr>\n",
              "    <tr>\n",
              "      <th>5</th>\n",
              "      <td>6</td>\n",
              "      <td>Mrs. Dennis Schulist</td>\n",
              "      <td>Leopoldo_Corkery</td>\n",
              "      <td>Karley_Dach@jasper.info</td>\n",
              "      <td>{'street': 'Norberto Crossing', 'suite': 'Apt....</td>\n",
              "      <td>1-477-935-8478 x6430</td>\n",
              "      <td>ola.org</td>\n",
              "      <td>{'name': 'Considine-Lockman', 'catchPhrase': '...</td>\n",
              "    </tr>\n",
              "    <tr>\n",
              "      <th>6</th>\n",
              "      <td>7</td>\n",
              "      <td>Kurtis Weissnat</td>\n",
              "      <td>Elwyn.Skiles</td>\n",
              "      <td>Telly.Hoeger@billy.biz</td>\n",
              "      <td>{'street': 'Rex Trail', 'suite': 'Suite 280', ...</td>\n",
              "      <td>210.067.6132</td>\n",
              "      <td>elvis.io</td>\n",
              "      <td>{'name': 'Johns Group', 'catchPhrase': 'Config...</td>\n",
              "    </tr>\n",
              "    <tr>\n",
              "      <th>7</th>\n",
              "      <td>8</td>\n",
              "      <td>Nicholas Runolfsdottir V</td>\n",
              "      <td>Maxime_Nienow</td>\n",
              "      <td>Sherwood@rosamond.me</td>\n",
              "      <td>{'street': 'Ellsworth Summit', 'suite': 'Suite...</td>\n",
              "      <td>586.493.6943 x140</td>\n",
              "      <td>jacynthe.com</td>\n",
              "      <td>{'name': 'Abernathy Group', 'catchPhrase': 'Im...</td>\n",
              "    </tr>\n",
              "    <tr>\n",
              "      <th>8</th>\n",
              "      <td>9</td>\n",
              "      <td>Glenna Reichert</td>\n",
              "      <td>Delphine</td>\n",
              "      <td>Chaim_McDermott@dana.io</td>\n",
              "      <td>{'street': 'Dayna Park', 'suite': 'Suite 449',...</td>\n",
              "      <td>(775)976-6794 x41206</td>\n",
              "      <td>conrad.com</td>\n",
              "      <td>{'name': 'Yost and Sons', 'catchPhrase': 'Swit...</td>\n",
              "    </tr>\n",
              "    <tr>\n",
              "      <th>9</th>\n",
              "      <td>10</td>\n",
              "      <td>Clementina DuBuque</td>\n",
              "      <td>Moriah.Stanton</td>\n",
              "      <td>Rey.Padberg@karina.biz</td>\n",
              "      <td>{'street': 'Kattie Turnpike', 'suite': 'Suite ...</td>\n",
              "      <td>024-648-3804</td>\n",
              "      <td>ambrose.net</td>\n",
              "      <td>{'name': 'Hoeger LLC', 'catchPhrase': 'Central...</td>\n",
              "    </tr>\n",
              "  </tbody>\n",
              "</table>\n",
              "</div>"
            ],
            "text/plain": [
              "   id  ...                                            company\n",
              "0   1  ...  {'name': 'Romaguera-Crona', 'catchPhrase': 'Mu...\n",
              "1   2  ...  {'name': 'Deckow-Crist', 'catchPhrase': 'Proac...\n",
              "2   3  ...  {'name': 'Romaguera-Jacobson', 'catchPhrase': ...\n",
              "3   4  ...  {'name': 'Robel-Corkery', 'catchPhrase': 'Mult...\n",
              "4   5  ...  {'name': 'Keebler LLC', 'catchPhrase': 'User-c...\n",
              "5   6  ...  {'name': 'Considine-Lockman', 'catchPhrase': '...\n",
              "6   7  ...  {'name': 'Johns Group', 'catchPhrase': 'Config...\n",
              "7   8  ...  {'name': 'Abernathy Group', 'catchPhrase': 'Im...\n",
              "8   9  ...  {'name': 'Yost and Sons', 'catchPhrase': 'Swit...\n",
              "9  10  ...  {'name': 'Hoeger LLC', 'catchPhrase': 'Central...\n",
              "\n",
              "[10 rows x 8 columns]"
            ]
          },
          "metadata": {
            "tags": []
          },
          "execution_count": 11
        }
      ]
    },
    {
      "cell_type": "code",
      "metadata": {
        "colab": {
          "base_uri": "https://localhost:8080/"
        },
        "id": "6qcsvCUENAZJ",
        "outputId": "2ae4c02c-274c-4747-bc5c-6d60794499a5"
      },
      "source": [
        "users.company[0]"
      ],
      "execution_count": null,
      "outputs": [
        {
          "output_type": "execute_result",
          "data": {
            "text/plain": [
              "{'bs': 'harness real-time e-markets',\n",
              " 'catchPhrase': 'Multi-layered client-server neural-net',\n",
              " 'name': 'Romaguera-Crona'}"
            ]
          },
          "metadata": {
            "tags": []
          },
          "execution_count": 12
        }
      ]
    },
    {
      "cell_type": "code",
      "metadata": {
        "colab": {
          "base_uri": "https://localhost:8080/",
          "height": 36
        },
        "id": "FrO050EuNISA",
        "outputId": "f2e729b4-cfdc-4a72-a33f-a53e55243ec5"
      },
      "source": [
        "users.company[0]['name']"
      ],
      "execution_count": null,
      "outputs": [
        {
          "output_type": "execute_result",
          "data": {
            "application/vnd.google.colaboratory.intrinsic+json": {
              "type": "string"
            },
            "text/plain": [
              "'Romaguera-Crona'"
            ]
          },
          "metadata": {
            "tags": []
          },
          "execution_count": 13
        }
      ]
    },
    {
      "cell_type": "code",
      "metadata": {
        "id": "hjE3BDERNP2w"
      },
      "source": [
        ""
      ],
      "execution_count": null,
      "outputs": []
    }
  ]
}