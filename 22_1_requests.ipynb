{
  "nbformat": 4,
  "nbformat_minor": 0,
  "metadata": {
    "colab": {
      "name": "22-1. requests.ipynb",
      "provenance": [],
      "collapsed_sections": [],
      "authorship_tag": "ABX9TyN+U4HctYKc4DRTvT5tsgsQ",
      "include_colab_link": true
    },
    "kernelspec": {
      "name": "python3",
      "display_name": "Python 3"
    }
  },
  "cells": [
    {
      "cell_type": "markdown",
      "metadata": {
        "id": "view-in-github",
        "colab_type": "text"
      },
      "source": [
        "<a href=\"https://colab.research.google.com/github/joohoshin/Python_Basic/blob/master/22_1_requests.ipynb\" target=\"_parent\"><img src=\"https://colab.research.google.com/assets/colab-badge.svg\" alt=\"Open In Colab\"/></a>"
      ]
    },
    {
      "cell_type": "markdown",
      "metadata": {
        "id": "gupPKi88Nc6b"
      },
      "source": [
        "인터넷에서 데이터를 주고 받을 때는 requests를 사용합니다"
      ]
    },
    {
      "cell_type": "code",
      "metadata": {
        "id": "jXZxTIKANZ37"
      },
      "source": [
        "import requests\n",
        "\n",
        "url = 'https://jsonplaceholder.typicode.com/users/1'"
      ],
      "execution_count": null,
      "outputs": []
    },
    {
      "cell_type": "code",
      "metadata": {
        "id": "UAQ4yvSxNmWu"
      },
      "source": [
        "res = requests.get(url)"
      ],
      "execution_count": null,
      "outputs": []
    },
    {
      "cell_type": "code",
      "metadata": {
        "colab": {
          "base_uri": "https://localhost:8080/"
        },
        "id": "iVI9dI8yOBwJ",
        "outputId": "edf28fdc-c752-4dcc-9868-e307927d86ad"
      },
      "source": [
        "res"
      ],
      "execution_count": null,
      "outputs": [
        {
          "output_type": "execute_result",
          "data": {
            "text/plain": [
              "<Response [200]>"
            ]
          },
          "metadata": {
            "tags": []
          },
          "execution_count": 4
        }
      ]
    },
    {
      "cell_type": "code",
      "metadata": {
        "colab": {
          "base_uri": "https://localhost:8080/",
          "height": 92
        },
        "id": "ZpmTNAB7OFKw",
        "outputId": "a2b16840-cc1c-4e65-c360-eda0d1cee3b4"
      },
      "source": [
        "res.text"
      ],
      "execution_count": null,
      "outputs": [
        {
          "output_type": "execute_result",
          "data": {
            "application/vnd.google.colaboratory.intrinsic+json": {
              "type": "string"
            },
            "text/plain": [
              "'{\\n  \"id\": 1,\\n  \"name\": \"Leanne Graham\",\\n  \"username\": \"Bret\",\\n  \"email\": \"Sincere@april.biz\",\\n  \"address\": {\\n    \"street\": \"Kulas Light\",\\n    \"suite\": \"Apt. 556\",\\n    \"city\": \"Gwenborough\",\\n    \"zipcode\": \"92998-3874\",\\n    \"geo\": {\\n      \"lat\": \"-37.3159\",\\n      \"lng\": \"81.1496\"\\n    }\\n  },\\n  \"phone\": \"1-770-736-8031 x56442\",\\n  \"website\": \"hildegard.org\",\\n  \"company\": {\\n    \"name\": \"Romaguera-Crona\",\\n    \"catchPhrase\": \"Multi-layered client-server neural-net\",\\n    \"bs\": \"harness real-time e-markets\"\\n  }\\n}'"
            ]
          },
          "metadata": {
            "tags": []
          },
          "execution_count": 5
        }
      ]
    },
    {
      "cell_type": "code",
      "metadata": {
        "id": "vpI68ORaOHdn"
      },
      "source": [
        "import json\n",
        "import pandas as pd\n",
        "\n",
        "user = json.loads(res.text)"
      ],
      "execution_count": null,
      "outputs": []
    },
    {
      "cell_type": "code",
      "metadata": {
        "colab": {
          "base_uri": "https://localhost:8080/"
        },
        "id": "rNmH48tmORZ_",
        "outputId": "8c16c591-8a3f-4c08-b037-cad2c61c7c3c"
      },
      "source": [
        "user"
      ],
      "execution_count": null,
      "outputs": [
        {
          "output_type": "execute_result",
          "data": {
            "text/plain": [
              "{'address': {'city': 'Gwenborough',\n",
              "  'geo': {'lat': '-37.3159', 'lng': '81.1496'},\n",
              "  'street': 'Kulas Light',\n",
              "  'suite': 'Apt. 556',\n",
              "  'zipcode': '92998-3874'},\n",
              " 'company': {'bs': 'harness real-time e-markets',\n",
              "  'catchPhrase': 'Multi-layered client-server neural-net',\n",
              "  'name': 'Romaguera-Crona'},\n",
              " 'email': 'Sincere@april.biz',\n",
              " 'id': 1,\n",
              " 'name': 'Leanne Graham',\n",
              " 'phone': '1-770-736-8031 x56442',\n",
              " 'username': 'Bret',\n",
              " 'website': 'hildegard.org'}"
            ]
          },
          "metadata": {
            "tags": []
          },
          "execution_count": 7
        }
      ]
    },
    {
      "cell_type": "code",
      "metadata": {
        "colab": {
          "base_uri": "https://localhost:8080/"
        },
        "id": "8UgOjbm0PTRB",
        "outputId": "48793a6c-7634-470b-ad01-6afcf5cf8c31"
      },
      "source": [
        "type(user)"
      ],
      "execution_count": null,
      "outputs": [
        {
          "output_type": "execute_result",
          "data": {
            "text/plain": [
              "dict"
            ]
          },
          "metadata": {
            "tags": []
          },
          "execution_count": 8
        }
      ]
    },
    {
      "cell_type": "code",
      "metadata": {
        "id": "IgfgsDxyPd_V",
        "colab": {
          "base_uri": "https://localhost:8080/",
          "height": 36
        },
        "outputId": "42e6f0be-d3fa-4fd2-ec03-823424e5f41f"
      },
      "source": [
        "user['address']['city']"
      ],
      "execution_count": null,
      "outputs": [
        {
          "output_type": "execute_result",
          "data": {
            "application/vnd.google.colaboratory.intrinsic+json": {
              "type": "string"
            },
            "text/plain": [
              "'Gwenborough'"
            ]
          },
          "metadata": {
            "tags": []
          },
          "execution_count": 9
        }
      ]
    },
    {
      "cell_type": "code",
      "metadata": {
        "id": "wnnsXRbsPg4A"
      },
      "source": [
        ""
      ],
      "execution_count": null,
      "outputs": []
    }
  ]
}