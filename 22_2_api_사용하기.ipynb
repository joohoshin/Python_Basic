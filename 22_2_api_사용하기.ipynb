{
  "nbformat": 4,
  "nbformat_minor": 0,
  "metadata": {
    "colab": {
      "name": "22-2. api 사용하기.ipynb",
      "provenance": [],
      "collapsed_sections": [],
      "authorship_tag": "ABX9TyNm7p65AIOsIgcqby31wPib",
      "include_colab_link": true
    },
    "kernelspec": {
      "name": "python3",
      "display_name": "Python 3"
    }
  },
  "cells": [
    {
      "cell_type": "markdown",
      "metadata": {
        "id": "view-in-github",
        "colab_type": "text"
      },
      "source": [
        "<a href=\"https://colab.research.google.com/github/joohoshin/Python_Basic/blob/master/22_2_api_%EC%82%AC%EC%9A%A9%ED%95%98%EA%B8%B0.ipynb\" target=\"_parent\"><img src=\"https://colab.research.google.com/assets/colab-badge.svg\" alt=\"Open In Colab\"/></a>"
      ]
    },
    {
      "cell_type": "markdown",
      "metadata": {
        "id": "ssAWZ6wOQCg4"
      },
      "source": [
        "네이버의 api 서비스에 가입해봅시다. \n",
        "다양한 데이터를 얻을 수 있습니다.\n",
        "\n",
        "https://developers.naver.com/main/\n",
        "\n"
      ]
    },
    {
      "cell_type": "code",
      "metadata": {
        "id": "cdYQzD2JQJV3"
      },
      "source": [
        "import requests"
      ],
      "execution_count": null,
      "outputs": []
    },
    {
      "cell_type": "code",
      "metadata": {
        "id": "Hd4JTjLNQS6B"
      },
      "source": [
        "client_id = \"XxCIEeNKOJJli7vTmnK4\"\n",
        "client_secret = \"6V70iPpGoJ\""
      ],
      "execution_count": null,
      "outputs": []
    },
    {
      "cell_type": "markdown",
      "metadata": {
        "id": "uqUNbNnZRH71"
      },
      "source": [
        "뉴스 검색을 해봅시다\n",
        "\n",
        "https://developers.naver.com/docs/search/news/\n"
      ]
    },
    {
      "cell_type": "code",
      "metadata": {
        "id": "niTD4TfkQ6FA"
      },
      "source": [
        "url = 'https://openapi.naver.com/v1/search/news.json'"
      ],
      "execution_count": null,
      "outputs": []
    },
    {
      "cell_type": "code",
      "metadata": {
        "id": "XYFZJtzuRE3h"
      },
      "source": [
        "headers = {'X-Naver-Client-Id': client_id, 'X-Naver-Client-Secret':client_secret}\n",
        "\n",
        "params = {'query':'파이썬'}"
      ],
      "execution_count": null,
      "outputs": []
    },
    {
      "cell_type": "code",
      "metadata": {
        "colab": {
          "base_uri": "https://localhost:8080/"
        },
        "id": "oF3B8KmKR8_s",
        "outputId": "800aec65-af8c-4773-f67e-d31f2625fc3b"
      },
      "source": [
        "res = requests.get(url, headers=headers, params = params)\n",
        "res"
      ],
      "execution_count": null,
      "outputs": [
        {
          "output_type": "execute_result",
          "data": {
            "text/plain": [
              "200"
            ]
          },
          "metadata": {
            "tags": []
          },
          "execution_count": 6
        }
      ]
    },
    {
      "cell_type": "code",
      "metadata": {
        "colab": {
          "base_uri": "https://localhost:8080/"
        },
        "id": "M2AQ4eN5QHyC",
        "outputId": "a56ca721-0524-494c-c321-3295cfcaa26c"
      },
      "source": [
        "res.status_code"
      ],
      "execution_count": null,
      "outputs": [
        {
          "output_type": "execute_result",
          "data": {
            "text/plain": [
              "200"
            ]
          },
          "metadata": {
            "tags": []
          },
          "execution_count": 8
        }
      ]
    },
    {
      "cell_type": "code",
      "metadata": {
        "colab": {
          "base_uri": "https://localhost:8080/",
          "height": 167
        },
        "id": "q9L4CXI1R_lB",
        "outputId": "8d1246f3-2f6d-40a3-fca4-e4cffb642b74"
      },
      "source": [
        "res.text"
      ],
      "execution_count": null,
      "outputs": [
        {
          "output_type": "execute_result",
          "data": {
            "application/vnd.google.colaboratory.intrinsic+json": {
              "type": "string"
            },
            "text/plain": [
              "'{\\n\"lastBuildDate\": \"Sun, 29 Nov 2020 13:25:51 +0900\",\\n\"total\": 9030,\\n\"start\": 1,\\n\"display\": 10,\\n\"items\": [\\n{\\n\"title\": \"아이비김영 국비지원 컴퓨터학원 \\'더조은컴퓨터아카데미\\', 2020 겨울방학특강...\",\\n\"originallink\": \"http://www.fntoday.co.kr/news/articleView.html?idxno=241782\",\\n\"link\": \"http://www.fntoday.co.kr/news/articleView.html?idxno=241782\",\\n\"description\": \"더조은컴퓨터아카데미의 교육과정에는 ▲빅데이터 분석 ▲<b>파이썬</b>, 자바(JAVA) ▲멀티미디어(디지털웹, 앱, 영상VFX, VR) ▲CG∙영상 ▲웹퍼블리셔(웹디자인) ▲편집디자인 ▲3D 프린터를 활용한 제품 디자인 ▲게임그래픽(2D... \",\\n\"pubDate\": \"Sat, 28 Nov 2020 15:03:00 +0900\"\\n\\n},\\n{\\n\"title\": \"고고학자 도와 연구 속도 높여주는 CNN 신경망\",\\n\"originallink\": \"http://www.aitimes.com/news/articleView.html?idxno=134402\",\\n\"link\": \"http://www.aitimes.com/news/articleView.html?idxno=134402\",\\n\"description\": \"프로그래밍 언어 <b>파이썬</b>을 사용한 작업은 한 달도 채 걸리지 않았다고 한다. 캐스퍼리 또한 &quot;자신들이 개발한 CNN 네트워크가 앞으로 고고학자들이 유적지를 찾는 데 더 많이 활용될 것으로 기대한다&quot;고 말했다.... \",\\n\"pubDate\": \"Fri, 27 Nov 2020 18:10:00 +0900\"\\n\\n},\\n{\\n\"title\": \"[특집]충남, \\'융복합 디스플레이\\' 특화로 미래먹거리 발굴\",\\n\"originallink\": \"http://www.smedaily.co.kr/news/articleView.html?idxno=95945\",\\n\"link\": \"http://www.smedaily.co.kr/news/articleView.html?idxno=95945\",\\n\"description\": \"또 SW융합 아두이노, <b>파이썬</b>, SW코딩 로봇 과정 등을 교육한 리부트캠프(재직자)는 97명이 수료했으며, SW융합코딩 전문가 양성과정을 교육한 리턴캠프는 35명이 수료했다. 고용연계형 프로그램은\\xa0기업들에게 큰 힘이... \",\\n\"pubDate\": \"Fri, 27 Nov 2020 17:22:00 +0900\"\\n\\n},\\n{\\n\"title\": \"아시아경제 \\'빅데이터 분석 실무 프로젝트 경진대회\\' 개최\",\\n\"originallink\": \"https://view.asiae.co.kr/article/2020112717023949677\",\\n\"link\": \"https://news.naver.com/main/read.nhn?mode=LSD&mid=sec&sid1=102&oid=277&aid=0004800182\",\\n\"description\": \"pandas, selenium 등 기존에 배운 다양한 <b>파이썬</b> 라이브러리를 적절하게 사용하여 원하는 결괏값을 확인하는 과정에서 성취감을 느꼈다. 앞으로 빅데이터 분석가로서 커리어를 쌓으며 성장해 나가고 싶다.&quot;라고 소감을... \",\\n\"pubDate\": \"Fri, 27 Nov 2020 16:59:00 +0900\"\\n\\n},\\n{\\n\"title\": \"오피지지 데이터 분석가가 말하는 \\'티어 올리는 꿀팁\\'\",\\n\"originallink\": \"https://www.thisisgame.com/webzine/special/nboard/5/?n=114943\",\\n\"link\": \"https://sports.news.naver.com/news.nhn?oid=439&aid=0000021217\",\\n\"description\": \"내부적으로는 <b>파이썬</b>이나 R 등 분석 언어를 활용하고 있다. 물론 엑셀만으로 데이터 분석 및 타 부서와의 협업에서 효율을 뽑아낼 수 있다면 큰 상관없겠지만. (웃음) 현재 데이터 분석가를 채용하고 있으니 생각 있으신... \",\\n\"pubDate\": \"Fri, 27 Nov 2020 09:56:00 +0900\"\\n\\n},\\n{\\n\"title\": \"한국장학진흥원, 빅데이터전문가 및 코딩지도사 자격증 무료수강 이벤트 진행\",\\n\"originallink\": \"http://www.thepublic.kr/news/newsview.php?ncode=1065605673882278\",\\n\"link\": \"http://www.thepublic.kr/news/newsview.php?ncode=1065605673882278\",\\n\"description\": \"프로그래밍 언어 <b>파이썬</b>과 웹크롤링, 데이터분석 교육 콘텐츠를 찾는 사람들에게 도움되는 다양한 콘텐츠도 만날 수 있다. 사고력을 길러주는 다양한 온라인 코딩지도사자격증 교육 프로그램은 어린이들을 위한... \",\\n\"pubDate\": \"Fri, 27 Nov 2020 00:01:00 +0900\"\\n\\n},\\n{\\n\"title\": \"[교육이 미래다] 꿈의대학 경민대 &quot;독립운동처럼 중요한 교육이기에&quot; 학생 꿈...\",\\n\"originallink\": \"http://www.joongboo.com/news/articleView.html?idxno=363458363\",\\n\"link\": \"http://www.joongboo.com/news/articleView.html?idxno=363458363\",\\n\"description\": \"이와 비슷한 맥락에서 \\'4차 산업혁명 시대를 대비한 창의적 코딩\\' 강의 역시 C언어 및 <b>파이썬</b> 코딩 기능을 익히고, 컴퓨터 언어를 게임(프로그램)을 통해 배울 수 있게 돕는 수업으로 관련 분야에 흥미를 느끼는 학생들이... \",\\n\"pubDate\": \"Thu, 26 Nov 2020 15:34:00 +0900\"\\n\\n},\\n{\\n\"title\": \"한국기술교육대 원격교육연수원, 3년 연속 \\'우수기관\\' 선정\",\\n\"originallink\": \"http://www.newsfreezone.co.kr/news/articleView.html?idxno=277268\",\\n\"link\": \"http://www.newsfreezone.co.kr/news/articleView.html?idxno=277268\",\\n\"description\": \"한국기술교육대학교 원격교육연수원은 <b>파이썬</b> 프로그래밍, Unity, 3D, 엔드밀 가공 등 64개 과정을 운영 중이며, 자세한 사항은 한국기술교육대학교 원격교육연수원 홈페이지(edu.ekoreatech.ac.kr)에서 확인할 수 있다.\",\\n\"pubDate\": \"Thu, 26 Nov 2020 10:54:00 +0900\"\\n\\n},\\n{\\n\"title\": \"겨울 \\'인턴 대어\\'가 몰려온다…LG화학, 네이버, E1 등\",\\n\"originallink\": \"http://www.newsis.com/view/?id=NISX20201125_0001246367&cID=13001&pID=13000\",\\n\"link\": \"https://news.naver.com/main/read.nhn?mode=LSD&mid=sec&sid1=101&oid=003&aid=0010206914\",\\n\"description\": \"데이터 활용 능력(R, <b>파이썬</b>)이 뛰어난 사람을 우대한다. 인턴 기간 후 평가에 따라 정규직 전환이 가능하다. 접수 기간은 12월 3일 오전 10시까지이다. 최근 유니콘기업에 등극한 국내 모빌리티 플랫폼 쏘카가... \",\\n\"pubDate\": \"Thu, 26 Nov 2020 00:20:00 +0900\"\\n\\n},\\n{\\n\"title\": \"연구기관 ETRI, AI 아카데미 100일 운영해보니…\",\\n\"originallink\": \"https://zdnet.co.kr/view/?no=20201125123408\",\\n\"link\": \"https://news.naver.com/main/read.nhn?mode=LSD&mid=sec&sid1=105&oid=092&aid=0002205902\",\\n\"description\": \"기획행정부서 직원이 <b>파이썬</b> 프로그래밍 교육을 들었다는 것이다. 첫 과정을 이수하고, 다음 과정을 들으려하는데, 반복적으로 발생하는 유사 데이터 정리 작업을 자동화하는 개발을 하고 싶어한다고 했다. 그는... \",\\n\"pubDate\": \"Wed, 25 Nov 2020 14:16:00 +0900\"\\n\\n}\\n]\\n}\\n'"
            ]
          },
          "metadata": {
            "tags": []
          },
          "execution_count": 9
        }
      ]
    },
    {
      "cell_type": "code",
      "metadata": {
        "id": "nmKewAXUSPox"
      },
      "source": [
        "import json\n",
        "raw = json.loads(res.text)"
      ],
      "execution_count": null,
      "outputs": []
    },
    {
      "cell_type": "code",
      "metadata": {
        "colab": {
          "base_uri": "https://localhost:8080/"
        },
        "id": "5at3JA5XWe3a",
        "outputId": "6a96e8f7-e360-4c8c-d7c8-50727a7a8b24"
      },
      "source": [
        "raw"
      ],
      "execution_count": null,
      "outputs": [
        {
          "output_type": "execute_result",
          "data": {
            "text/plain": [
              "{'display': 10,\n",
              " 'items': [{'description': '더조은컴퓨터아카데미의 교육과정에는 ▲빅데이터 분석 ▲<b>파이썬</b>, 자바(JAVA) ▲멀티미디어(디지털웹, 앱, 영상VFX, VR) ▲CG∙영상 ▲웹퍼블리셔(웹디자인) ▲편집디자인 ▲3D 프린터를 활용한 제품 디자인 ▲게임그래픽(2D... ',\n",
              "   'link': 'http://www.fntoday.co.kr/news/articleView.html?idxno=241782',\n",
              "   'originallink': 'http://www.fntoday.co.kr/news/articleView.html?idxno=241782',\n",
              "   'pubDate': 'Sat, 28 Nov 2020 15:03:00 +0900',\n",
              "   'title': \"아이비김영 국비지원 컴퓨터학원 '더조은컴퓨터아카데미', 2020 겨울방학특강...\"},\n",
              "  {'description': '프로그래밍 언어 <b>파이썬</b>을 사용한 작업은 한 달도 채 걸리지 않았다고 한다. 캐스퍼리 또한 &quot;자신들이 개발한 CNN 네트워크가 앞으로 고고학자들이 유적지를 찾는 데 더 많이 활용될 것으로 기대한다&quot;고 말했다.... ',\n",
              "   'link': 'http://www.aitimes.com/news/articleView.html?idxno=134402',\n",
              "   'originallink': 'http://www.aitimes.com/news/articleView.html?idxno=134402',\n",
              "   'pubDate': 'Fri, 27 Nov 2020 18:10:00 +0900',\n",
              "   'title': '고고학자 도와 연구 속도 높여주는 CNN 신경망'},\n",
              "  {'description': '또 SW융합 아두이노, <b>파이썬</b>, SW코딩 로봇 과정 등을 교육한 리부트캠프(재직자)는 97명이 수료했으며, SW융합코딩 전문가 양성과정을 교육한 리턴캠프는 35명이 수료했다. 고용연계형 프로그램은\\xa0기업들에게 큰 힘이... ',\n",
              "   'link': 'http://www.smedaily.co.kr/news/articleView.html?idxno=95945',\n",
              "   'originallink': 'http://www.smedaily.co.kr/news/articleView.html?idxno=95945',\n",
              "   'pubDate': 'Fri, 27 Nov 2020 17:22:00 +0900',\n",
              "   'title': \"[특집]충남, '융복합 디스플레이' 특화로 미래먹거리 발굴\"},\n",
              "  {'description': 'pandas, selenium 등 기존에 배운 다양한 <b>파이썬</b> 라이브러리를 적절하게 사용하여 원하는 결괏값을 확인하는 과정에서 성취감을 느꼈다. 앞으로 빅데이터 분석가로서 커리어를 쌓으며 성장해 나가고 싶다.&quot;라고 소감을... ',\n",
              "   'link': 'https://news.naver.com/main/read.nhn?mode=LSD&mid=sec&sid1=102&oid=277&aid=0004800182',\n",
              "   'originallink': 'https://view.asiae.co.kr/article/2020112717023949677',\n",
              "   'pubDate': 'Fri, 27 Nov 2020 16:59:00 +0900',\n",
              "   'title': \"아시아경제 '빅데이터 분석 실무 프로젝트 경진대회' 개최\"},\n",
              "  {'description': '내부적으로는 <b>파이썬</b>이나 R 등 분석 언어를 활용하고 있다. 물론 엑셀만으로 데이터 분석 및 타 부서와의 협업에서 효율을 뽑아낼 수 있다면 큰 상관없겠지만. (웃음) 현재 데이터 분석가를 채용하고 있으니 생각 있으신... ',\n",
              "   'link': 'https://sports.news.naver.com/news.nhn?oid=439&aid=0000021217',\n",
              "   'originallink': 'https://www.thisisgame.com/webzine/special/nboard/5/?n=114943',\n",
              "   'pubDate': 'Fri, 27 Nov 2020 09:56:00 +0900',\n",
              "   'title': \"오피지지 데이터 분석가가 말하는 '티어 올리는 꿀팁'\"},\n",
              "  {'description': '프로그래밍 언어 <b>파이썬</b>과 웹크롤링, 데이터분석 교육 콘텐츠를 찾는 사람들에게 도움되는 다양한 콘텐츠도 만날 수 있다. 사고력을 길러주는 다양한 온라인 코딩지도사자격증 교육 프로그램은 어린이들을 위한... ',\n",
              "   'link': 'http://www.thepublic.kr/news/newsview.php?ncode=1065605673882278',\n",
              "   'originallink': 'http://www.thepublic.kr/news/newsview.php?ncode=1065605673882278',\n",
              "   'pubDate': 'Fri, 27 Nov 2020 00:01:00 +0900',\n",
              "   'title': '한국장학진흥원, 빅데이터전문가 및 코딩지도사 자격증 무료수강 이벤트 진행'},\n",
              "  {'description': \"이와 비슷한 맥락에서 '4차 산업혁명 시대를 대비한 창의적 코딩' 강의 역시 C언어 및 <b>파이썬</b> 코딩 기능을 익히고, 컴퓨터 언어를 게임(프로그램)을 통해 배울 수 있게 돕는 수업으로 관련 분야에 흥미를 느끼는 학생들이... \",\n",
              "   'link': 'http://www.joongboo.com/news/articleView.html?idxno=363458363',\n",
              "   'originallink': 'http://www.joongboo.com/news/articleView.html?idxno=363458363',\n",
              "   'pubDate': 'Thu, 26 Nov 2020 15:34:00 +0900',\n",
              "   'title': '[교육이 미래다] 꿈의대학 경민대 &quot;독립운동처럼 중요한 교육이기에&quot; 학생 꿈...'},\n",
              "  {'description': '한국기술교육대학교 원격교육연수원은 <b>파이썬</b> 프로그래밍, Unity, 3D, 엔드밀 가공 등 64개 과정을 운영 중이며, 자세한 사항은 한국기술교육대학교 원격교육연수원 홈페이지(edu.ekoreatech.ac.kr)에서 확인할 수 있다.',\n",
              "   'link': 'http://www.newsfreezone.co.kr/news/articleView.html?idxno=277268',\n",
              "   'originallink': 'http://www.newsfreezone.co.kr/news/articleView.html?idxno=277268',\n",
              "   'pubDate': 'Thu, 26 Nov 2020 10:54:00 +0900',\n",
              "   'title': \"한국기술교육대 원격교육연수원, 3년 연속 '우수기관' 선정\"},\n",
              "  {'description': '데이터 활용 능력(R, <b>파이썬</b>)이 뛰어난 사람을 우대한다. 인턴 기간 후 평가에 따라 정규직 전환이 가능하다. 접수 기간은 12월 3일 오전 10시까지이다. 최근 유니콘기업에 등극한 국내 모빌리티 플랫폼 쏘카가... ',\n",
              "   'link': 'https://news.naver.com/main/read.nhn?mode=LSD&mid=sec&sid1=101&oid=003&aid=0010206914',\n",
              "   'originallink': 'http://www.newsis.com/view/?id=NISX20201125_0001246367&cID=13001&pID=13000',\n",
              "   'pubDate': 'Thu, 26 Nov 2020 00:20:00 +0900',\n",
              "   'title': \"겨울 '인턴 대어'가 몰려온다…LG화학, 네이버, E1 등\"},\n",
              "  {'description': '기획행정부서 직원이 <b>파이썬</b> 프로그래밍 교육을 들었다는 것이다. 첫 과정을 이수하고, 다음 과정을 들으려하는데, 반복적으로 발생하는 유사 데이터 정리 작업을 자동화하는 개발을 하고 싶어한다고 했다. 그는... ',\n",
              "   'link': 'https://news.naver.com/main/read.nhn?mode=LSD&mid=sec&sid1=105&oid=092&aid=0002205902',\n",
              "   'originallink': 'https://zdnet.co.kr/view/?no=20201125123408',\n",
              "   'pubDate': 'Wed, 25 Nov 2020 14:16:00 +0900',\n",
              "   'title': '연구기관 ETRI, AI 아카데미 100일 운영해보니…'}],\n",
              " 'lastBuildDate': 'Sun, 29 Nov 2020 13:25:51 +0900',\n",
              " 'start': 1,\n",
              " 'total': 9030}"
            ]
          },
          "metadata": {
            "tags": []
          },
          "execution_count": 11
        }
      ]
    },
    {
      "cell_type": "code",
      "metadata": {
        "id": "fWbG_WDzWfgR"
      },
      "source": [
        "import pandas as pd\n",
        "df = pd.DataFrame(raw)"
      ],
      "execution_count": null,
      "outputs": []
    },
    {
      "cell_type": "code",
      "metadata": {
        "colab": {
          "base_uri": "https://localhost:8080/",
          "height": 355
        },
        "id": "J_KyToshWx3t",
        "outputId": "d3e3a27a-c6af-4172-a7fc-acbf23fa2e4f"
      },
      "source": [
        "df"
      ],
      "execution_count": null,
      "outputs": [
        {
          "output_type": "execute_result",
          "data": {
            "text/html": [
              "<div>\n",
              "<style scoped>\n",
              "    .dataframe tbody tr th:only-of-type {\n",
              "        vertical-align: middle;\n",
              "    }\n",
              "\n",
              "    .dataframe tbody tr th {\n",
              "        vertical-align: top;\n",
              "    }\n",
              "\n",
              "    .dataframe thead th {\n",
              "        text-align: right;\n",
              "    }\n",
              "</style>\n",
              "<table border=\"1\" class=\"dataframe\">\n",
              "  <thead>\n",
              "    <tr style=\"text-align: right;\">\n",
              "      <th></th>\n",
              "      <th>lastBuildDate</th>\n",
              "      <th>total</th>\n",
              "      <th>start</th>\n",
              "      <th>display</th>\n",
              "      <th>items</th>\n",
              "    </tr>\n",
              "  </thead>\n",
              "  <tbody>\n",
              "    <tr>\n",
              "      <th>0</th>\n",
              "      <td>Sun, 29 Nov 2020 13:25:51 +0900</td>\n",
              "      <td>9030</td>\n",
              "      <td>1</td>\n",
              "      <td>10</td>\n",
              "      <td>{'title': '아이비김영 국비지원 컴퓨터학원 '더조은컴퓨터아카데미', 2020...</td>\n",
              "    </tr>\n",
              "    <tr>\n",
              "      <th>1</th>\n",
              "      <td>Sun, 29 Nov 2020 13:25:51 +0900</td>\n",
              "      <td>9030</td>\n",
              "      <td>1</td>\n",
              "      <td>10</td>\n",
              "      <td>{'title': '고고학자 도와 연구 속도 높여주는 CNN 신경망', 'origi...</td>\n",
              "    </tr>\n",
              "    <tr>\n",
              "      <th>2</th>\n",
              "      <td>Sun, 29 Nov 2020 13:25:51 +0900</td>\n",
              "      <td>9030</td>\n",
              "      <td>1</td>\n",
              "      <td>10</td>\n",
              "      <td>{'title': '[특집]충남, '융복합 디스플레이' 특화로 미래먹거리 발굴', ...</td>\n",
              "    </tr>\n",
              "    <tr>\n",
              "      <th>3</th>\n",
              "      <td>Sun, 29 Nov 2020 13:25:51 +0900</td>\n",
              "      <td>9030</td>\n",
              "      <td>1</td>\n",
              "      <td>10</td>\n",
              "      <td>{'title': '아시아경제 '빅데이터 분석 실무 프로젝트 경진대회' 개최', '...</td>\n",
              "    </tr>\n",
              "    <tr>\n",
              "      <th>4</th>\n",
              "      <td>Sun, 29 Nov 2020 13:25:51 +0900</td>\n",
              "      <td>9030</td>\n",
              "      <td>1</td>\n",
              "      <td>10</td>\n",
              "      <td>{'title': '오피지지 데이터 분석가가 말하는 '티어 올리는 꿀팁'', 'or...</td>\n",
              "    </tr>\n",
              "    <tr>\n",
              "      <th>5</th>\n",
              "      <td>Sun, 29 Nov 2020 13:25:51 +0900</td>\n",
              "      <td>9030</td>\n",
              "      <td>1</td>\n",
              "      <td>10</td>\n",
              "      <td>{'title': '한국장학진흥원, 빅데이터전문가 및 코딩지도사 자격증 무료수강 이...</td>\n",
              "    </tr>\n",
              "    <tr>\n",
              "      <th>6</th>\n",
              "      <td>Sun, 29 Nov 2020 13:25:51 +0900</td>\n",
              "      <td>9030</td>\n",
              "      <td>1</td>\n",
              "      <td>10</td>\n",
              "      <td>{'title': '[교육이 미래다] 꿈의대학 경민대 &amp;quot;독립운동처럼 중요한...</td>\n",
              "    </tr>\n",
              "    <tr>\n",
              "      <th>7</th>\n",
              "      <td>Sun, 29 Nov 2020 13:25:51 +0900</td>\n",
              "      <td>9030</td>\n",
              "      <td>1</td>\n",
              "      <td>10</td>\n",
              "      <td>{'title': '한국기술교육대 원격교육연수원, 3년 연속 '우수기관' 선정', ...</td>\n",
              "    </tr>\n",
              "    <tr>\n",
              "      <th>8</th>\n",
              "      <td>Sun, 29 Nov 2020 13:25:51 +0900</td>\n",
              "      <td>9030</td>\n",
              "      <td>1</td>\n",
              "      <td>10</td>\n",
              "      <td>{'title': '겨울 '인턴 대어'가 몰려온다…LG화학, 네이버, E1 등', ...</td>\n",
              "    </tr>\n",
              "    <tr>\n",
              "      <th>9</th>\n",
              "      <td>Sun, 29 Nov 2020 13:25:51 +0900</td>\n",
              "      <td>9030</td>\n",
              "      <td>1</td>\n",
              "      <td>10</td>\n",
              "      <td>{'title': '연구기관 ETRI, AI 아카데미 100일 운영해보니…', 'o...</td>\n",
              "    </tr>\n",
              "  </tbody>\n",
              "</table>\n",
              "</div>"
            ],
            "text/plain": [
              "                     lastBuildDate  ...                                              items\n",
              "0  Sun, 29 Nov 2020 13:25:51 +0900  ...  {'title': '아이비김영 국비지원 컴퓨터학원 '더조은컴퓨터아카데미', 2020...\n",
              "1  Sun, 29 Nov 2020 13:25:51 +0900  ...  {'title': '고고학자 도와 연구 속도 높여주는 CNN 신경망', 'origi...\n",
              "2  Sun, 29 Nov 2020 13:25:51 +0900  ...  {'title': '[특집]충남, '융복합 디스플레이' 특화로 미래먹거리 발굴', ...\n",
              "3  Sun, 29 Nov 2020 13:25:51 +0900  ...  {'title': '아시아경제 '빅데이터 분석 실무 프로젝트 경진대회' 개최', '...\n",
              "4  Sun, 29 Nov 2020 13:25:51 +0900  ...  {'title': '오피지지 데이터 분석가가 말하는 '티어 올리는 꿀팁'', 'or...\n",
              "5  Sun, 29 Nov 2020 13:25:51 +0900  ...  {'title': '한국장학진흥원, 빅데이터전문가 및 코딩지도사 자격증 무료수강 이...\n",
              "6  Sun, 29 Nov 2020 13:25:51 +0900  ...  {'title': '[교육이 미래다] 꿈의대학 경민대 &quot;독립운동처럼 중요한...\n",
              "7  Sun, 29 Nov 2020 13:25:51 +0900  ...  {'title': '한국기술교육대 원격교육연수원, 3년 연속 '우수기관' 선정', ...\n",
              "8  Sun, 29 Nov 2020 13:25:51 +0900  ...  {'title': '겨울 '인턴 대어'가 몰려온다…LG화학, 네이버, E1 등', ...\n",
              "9  Sun, 29 Nov 2020 13:25:51 +0900  ...  {'title': '연구기관 ETRI, AI 아카데미 100일 운영해보니…', 'o...\n",
              "\n",
              "[10 rows x 5 columns]"
            ]
          },
          "metadata": {
            "tags": []
          },
          "execution_count": 13
        }
      ]
    },
    {
      "cell_type": "code",
      "metadata": {
        "colab": {
          "base_uri": "https://localhost:8080/",
          "height": 36
        },
        "id": "1DwKc4mqQlMT",
        "outputId": "08029ec5-3cbe-4040-ea06-6d8f55a99e48"
      },
      "source": [
        "df['items'][0]['title']"
      ],
      "execution_count": null,
      "outputs": [
        {
          "output_type": "execute_result",
          "data": {
            "application/vnd.google.colaboratory.intrinsic+json": {
              "type": "string"
            },
            "text/plain": [
              "\"아이비김영 국비지원 컴퓨터학원 '더조은컴퓨터아카데미', 2020 겨울방학특강...\""
            ]
          },
          "metadata": {
            "tags": []
          },
          "execution_count": 15
        }
      ]
    },
    {
      "cell_type": "code",
      "metadata": {
        "id": "pbenaPaaXQ17"
      },
      "source": [
        "df2 = pd.json_normalize(raw, ['items'])"
      ],
      "execution_count": null,
      "outputs": []
    },
    {
      "cell_type": "code",
      "metadata": {
        "colab": {
          "base_uri": "https://localhost:8080/",
          "height": 1000
        },
        "id": "itBgoHoPXdIi",
        "outputId": "f85dc5ca-f851-4fac-9d0c-1d071409a5a6"
      },
      "source": [
        "df2"
      ],
      "execution_count": null,
      "outputs": [
        {
          "output_type": "execute_result",
          "data": {
            "text/html": [
              "<div>\n",
              "<style scoped>\n",
              "    .dataframe tbody tr th:only-of-type {\n",
              "        vertical-align: middle;\n",
              "    }\n",
              "\n",
              "    .dataframe tbody tr th {\n",
              "        vertical-align: top;\n",
              "    }\n",
              "\n",
              "    .dataframe thead th {\n",
              "        text-align: right;\n",
              "    }\n",
              "</style>\n",
              "<table border=\"1\" class=\"dataframe\">\n",
              "  <thead>\n",
              "    <tr style=\"text-align: right;\">\n",
              "      <th></th>\n",
              "      <th>title</th>\n",
              "      <th>originallink</th>\n",
              "      <th>link</th>\n",
              "      <th>description</th>\n",
              "      <th>pubDate</th>\n",
              "    </tr>\n",
              "  </thead>\n",
              "  <tbody>\n",
              "    <tr>\n",
              "      <th>0</th>\n",
              "      <td>아이비김영 국비지원 컴퓨터학원 '더조은컴퓨터아카데미', 2020 겨울방학특강...</td>\n",
              "      <td>http://www.fntoday.co.kr/news/articleView.html...</td>\n",
              "      <td>http://www.fntoday.co.kr/news/articleView.html...</td>\n",
              "      <td>더조은컴퓨터아카데미의 교육과정에는 ▲빅데이터 분석 ▲&lt;b&gt;파이썬&lt;/b&gt;, 자바(JA...</td>\n",
              "      <td>Sat, 28 Nov 2020 15:03:00 +0900</td>\n",
              "    </tr>\n",
              "    <tr>\n",
              "      <th>1</th>\n",
              "      <td>고고학자 도와 연구 속도 높여주는 CNN 신경망</td>\n",
              "      <td>http://www.aitimes.com/news/articleView.html?i...</td>\n",
              "      <td>http://www.aitimes.com/news/articleView.html?i...</td>\n",
              "      <td>프로그래밍 언어 &lt;b&gt;파이썬&lt;/b&gt;을 사용한 작업은 한 달도 채 걸리지 않았다고 한...</td>\n",
              "      <td>Fri, 27 Nov 2020 18:10:00 +0900</td>\n",
              "    </tr>\n",
              "    <tr>\n",
              "      <th>2</th>\n",
              "      <td>[특집]충남, '융복합 디스플레이' 특화로 미래먹거리 발굴</td>\n",
              "      <td>http://www.smedaily.co.kr/news/articleView.htm...</td>\n",
              "      <td>http://www.smedaily.co.kr/news/articleView.htm...</td>\n",
              "      <td>또 SW융합 아두이노, &lt;b&gt;파이썬&lt;/b&gt;, SW코딩 로봇 과정 등을 교육한 리부트...</td>\n",
              "      <td>Fri, 27 Nov 2020 17:22:00 +0900</td>\n",
              "    </tr>\n",
              "    <tr>\n",
              "      <th>3</th>\n",
              "      <td>아시아경제 '빅데이터 분석 실무 프로젝트 경진대회' 개최</td>\n",
              "      <td>https://view.asiae.co.kr/article/2020112717023...</td>\n",
              "      <td>https://news.naver.com/main/read.nhn?mode=LSD&amp;...</td>\n",
              "      <td>pandas, selenium 등 기존에 배운 다양한 &lt;b&gt;파이썬&lt;/b&gt; 라이브러리...</td>\n",
              "      <td>Fri, 27 Nov 2020 16:59:00 +0900</td>\n",
              "    </tr>\n",
              "    <tr>\n",
              "      <th>4</th>\n",
              "      <td>오피지지 데이터 분석가가 말하는 '티어 올리는 꿀팁'</td>\n",
              "      <td>https://www.thisisgame.com/webzine/special/nbo...</td>\n",
              "      <td>https://sports.news.naver.com/news.nhn?oid=439...</td>\n",
              "      <td>내부적으로는 &lt;b&gt;파이썬&lt;/b&gt;이나 R 등 분석 언어를 활용하고 있다. 물론 엑셀만...</td>\n",
              "      <td>Fri, 27 Nov 2020 09:56:00 +0900</td>\n",
              "    </tr>\n",
              "    <tr>\n",
              "      <th>5</th>\n",
              "      <td>한국장학진흥원, 빅데이터전문가 및 코딩지도사 자격증 무료수강 이벤트 진행</td>\n",
              "      <td>http://www.thepublic.kr/news/newsview.php?ncod...</td>\n",
              "      <td>http://www.thepublic.kr/news/newsview.php?ncod...</td>\n",
              "      <td>프로그래밍 언어 &lt;b&gt;파이썬&lt;/b&gt;과 웹크롤링, 데이터분석 교육 콘텐츠를 찾는 사람...</td>\n",
              "      <td>Fri, 27 Nov 2020 00:01:00 +0900</td>\n",
              "    </tr>\n",
              "    <tr>\n",
              "      <th>6</th>\n",
              "      <td>[교육이 미래다] 꿈의대학 경민대 &amp;quot;독립운동처럼 중요한 교육이기에&amp;quot...</td>\n",
              "      <td>http://www.joongboo.com/news/articleView.html?...</td>\n",
              "      <td>http://www.joongboo.com/news/articleView.html?...</td>\n",
              "      <td>이와 비슷한 맥락에서 '4차 산업혁명 시대를 대비한 창의적 코딩' 강의 역시 C언어...</td>\n",
              "      <td>Thu, 26 Nov 2020 15:34:00 +0900</td>\n",
              "    </tr>\n",
              "    <tr>\n",
              "      <th>7</th>\n",
              "      <td>한국기술교육대 원격교육연수원, 3년 연속 '우수기관' 선정</td>\n",
              "      <td>http://www.newsfreezone.co.kr/news/articleView...</td>\n",
              "      <td>http://www.newsfreezone.co.kr/news/articleView...</td>\n",
              "      <td>한국기술교육대학교 원격교육연수원은 &lt;b&gt;파이썬&lt;/b&gt; 프로그래밍, Unity, 3D...</td>\n",
              "      <td>Thu, 26 Nov 2020 10:54:00 +0900</td>\n",
              "    </tr>\n",
              "    <tr>\n",
              "      <th>8</th>\n",
              "      <td>겨울 '인턴 대어'가 몰려온다…LG화학, 네이버, E1 등</td>\n",
              "      <td>http://www.newsis.com/view/?id=NISX20201125_00...</td>\n",
              "      <td>https://news.naver.com/main/read.nhn?mode=LSD&amp;...</td>\n",
              "      <td>데이터 활용 능력(R, &lt;b&gt;파이썬&lt;/b&gt;)이 뛰어난 사람을 우대한다. 인턴 기간 ...</td>\n",
              "      <td>Thu, 26 Nov 2020 00:20:00 +0900</td>\n",
              "    </tr>\n",
              "    <tr>\n",
              "      <th>9</th>\n",
              "      <td>연구기관 ETRI, AI 아카데미 100일 운영해보니…</td>\n",
              "      <td>https://zdnet.co.kr/view/?no=20201125123408</td>\n",
              "      <td>https://news.naver.com/main/read.nhn?mode=LSD&amp;...</td>\n",
              "      <td>기획행정부서 직원이 &lt;b&gt;파이썬&lt;/b&gt; 프로그래밍 교육을 들었다는 것이다. 첫 과정...</td>\n",
              "      <td>Wed, 25 Nov 2020 14:16:00 +0900</td>\n",
              "    </tr>\n",
              "  </tbody>\n",
              "</table>\n",
              "</div>"
            ],
            "text/plain": [
              "                                               title  ...                          pubDate\n",
              "0      아이비김영 국비지원 컴퓨터학원 '더조은컴퓨터아카데미', 2020 겨울방학특강...  ...  Sat, 28 Nov 2020 15:03:00 +0900\n",
              "1                         고고학자 도와 연구 속도 높여주는 CNN 신경망  ...  Fri, 27 Nov 2020 18:10:00 +0900\n",
              "2                   [특집]충남, '융복합 디스플레이' 특화로 미래먹거리 발굴  ...  Fri, 27 Nov 2020 17:22:00 +0900\n",
              "3                    아시아경제 '빅데이터 분석 실무 프로젝트 경진대회' 개최  ...  Fri, 27 Nov 2020 16:59:00 +0900\n",
              "4                      오피지지 데이터 분석가가 말하는 '티어 올리는 꿀팁'  ...  Fri, 27 Nov 2020 09:56:00 +0900\n",
              "5           한국장학진흥원, 빅데이터전문가 및 코딩지도사 자격증 무료수강 이벤트 진행  ...  Fri, 27 Nov 2020 00:01:00 +0900\n",
              "6  [교육이 미래다] 꿈의대학 경민대 &quot;독립운동처럼 중요한 교육이기에&quot...  ...  Thu, 26 Nov 2020 15:34:00 +0900\n",
              "7                   한국기술교육대 원격교육연수원, 3년 연속 '우수기관' 선정  ...  Thu, 26 Nov 2020 10:54:00 +0900\n",
              "8                   겨울 '인턴 대어'가 몰려온다…LG화학, 네이버, E1 등  ...  Thu, 26 Nov 2020 00:20:00 +0900\n",
              "9                     연구기관 ETRI, AI 아카데미 100일 운영해보니…  ...  Wed, 25 Nov 2020 14:16:00 +0900\n",
              "\n",
              "[10 rows x 5 columns]"
            ]
          },
          "metadata": {
            "tags": []
          },
          "execution_count": 18
        }
      ]
    },
    {
      "cell_type": "code",
      "metadata": {
        "id": "oy5KEOXfXd_S"
      },
      "source": [
        "df2 = pd.json_normalize(raw, ['items'],['lastBuildDate','total'])"
      ],
      "execution_count": null,
      "outputs": []
    },
    {
      "cell_type": "code",
      "metadata": {
        "id": "B1wLew-kROBR",
        "colab": {
          "base_uri": "https://localhost:8080/",
          "height": 1000
        },
        "outputId": "4ce333d7-be3c-454a-f818-af429ed1c431"
      },
      "source": [
        "df2"
      ],
      "execution_count": null,
      "outputs": [
        {
          "output_type": "execute_result",
          "data": {
            "text/html": [
              "<div>\n",
              "<style scoped>\n",
              "    .dataframe tbody tr th:only-of-type {\n",
              "        vertical-align: middle;\n",
              "    }\n",
              "\n",
              "    .dataframe tbody tr th {\n",
              "        vertical-align: top;\n",
              "    }\n",
              "\n",
              "    .dataframe thead th {\n",
              "        text-align: right;\n",
              "    }\n",
              "</style>\n",
              "<table border=\"1\" class=\"dataframe\">\n",
              "  <thead>\n",
              "    <tr style=\"text-align: right;\">\n",
              "      <th></th>\n",
              "      <th>title</th>\n",
              "      <th>originallink</th>\n",
              "      <th>link</th>\n",
              "      <th>description</th>\n",
              "      <th>pubDate</th>\n",
              "      <th>lastBuildDate</th>\n",
              "      <th>total</th>\n",
              "    </tr>\n",
              "  </thead>\n",
              "  <tbody>\n",
              "    <tr>\n",
              "      <th>0</th>\n",
              "      <td>아이비김영 국비지원 컴퓨터학원 '더조은컴퓨터아카데미', 2020 겨울방학특강...</td>\n",
              "      <td>http://www.fntoday.co.kr/news/articleView.html...</td>\n",
              "      <td>http://www.fntoday.co.kr/news/articleView.html...</td>\n",
              "      <td>더조은컴퓨터아카데미의 교육과정에는 ▲빅데이터 분석 ▲&lt;b&gt;파이썬&lt;/b&gt;, 자바(JA...</td>\n",
              "      <td>Sat, 28 Nov 2020 15:03:00 +0900</td>\n",
              "      <td>Sun, 29 Nov 2020 13:25:51 +0900</td>\n",
              "      <td>9030</td>\n",
              "    </tr>\n",
              "    <tr>\n",
              "      <th>1</th>\n",
              "      <td>고고학자 도와 연구 속도 높여주는 CNN 신경망</td>\n",
              "      <td>http://www.aitimes.com/news/articleView.html?i...</td>\n",
              "      <td>http://www.aitimes.com/news/articleView.html?i...</td>\n",
              "      <td>프로그래밍 언어 &lt;b&gt;파이썬&lt;/b&gt;을 사용한 작업은 한 달도 채 걸리지 않았다고 한...</td>\n",
              "      <td>Fri, 27 Nov 2020 18:10:00 +0900</td>\n",
              "      <td>Sun, 29 Nov 2020 13:25:51 +0900</td>\n",
              "      <td>9030</td>\n",
              "    </tr>\n",
              "    <tr>\n",
              "      <th>2</th>\n",
              "      <td>[특집]충남, '융복합 디스플레이' 특화로 미래먹거리 발굴</td>\n",
              "      <td>http://www.smedaily.co.kr/news/articleView.htm...</td>\n",
              "      <td>http://www.smedaily.co.kr/news/articleView.htm...</td>\n",
              "      <td>또 SW융합 아두이노, &lt;b&gt;파이썬&lt;/b&gt;, SW코딩 로봇 과정 등을 교육한 리부트...</td>\n",
              "      <td>Fri, 27 Nov 2020 17:22:00 +0900</td>\n",
              "      <td>Sun, 29 Nov 2020 13:25:51 +0900</td>\n",
              "      <td>9030</td>\n",
              "    </tr>\n",
              "    <tr>\n",
              "      <th>3</th>\n",
              "      <td>아시아경제 '빅데이터 분석 실무 프로젝트 경진대회' 개최</td>\n",
              "      <td>https://view.asiae.co.kr/article/2020112717023...</td>\n",
              "      <td>https://news.naver.com/main/read.nhn?mode=LSD&amp;...</td>\n",
              "      <td>pandas, selenium 등 기존에 배운 다양한 &lt;b&gt;파이썬&lt;/b&gt; 라이브러리...</td>\n",
              "      <td>Fri, 27 Nov 2020 16:59:00 +0900</td>\n",
              "      <td>Sun, 29 Nov 2020 13:25:51 +0900</td>\n",
              "      <td>9030</td>\n",
              "    </tr>\n",
              "    <tr>\n",
              "      <th>4</th>\n",
              "      <td>오피지지 데이터 분석가가 말하는 '티어 올리는 꿀팁'</td>\n",
              "      <td>https://www.thisisgame.com/webzine/special/nbo...</td>\n",
              "      <td>https://sports.news.naver.com/news.nhn?oid=439...</td>\n",
              "      <td>내부적으로는 &lt;b&gt;파이썬&lt;/b&gt;이나 R 등 분석 언어를 활용하고 있다. 물론 엑셀만...</td>\n",
              "      <td>Fri, 27 Nov 2020 09:56:00 +0900</td>\n",
              "      <td>Sun, 29 Nov 2020 13:25:51 +0900</td>\n",
              "      <td>9030</td>\n",
              "    </tr>\n",
              "    <tr>\n",
              "      <th>5</th>\n",
              "      <td>한국장학진흥원, 빅데이터전문가 및 코딩지도사 자격증 무료수강 이벤트 진행</td>\n",
              "      <td>http://www.thepublic.kr/news/newsview.php?ncod...</td>\n",
              "      <td>http://www.thepublic.kr/news/newsview.php?ncod...</td>\n",
              "      <td>프로그래밍 언어 &lt;b&gt;파이썬&lt;/b&gt;과 웹크롤링, 데이터분석 교육 콘텐츠를 찾는 사람...</td>\n",
              "      <td>Fri, 27 Nov 2020 00:01:00 +0900</td>\n",
              "      <td>Sun, 29 Nov 2020 13:25:51 +0900</td>\n",
              "      <td>9030</td>\n",
              "    </tr>\n",
              "    <tr>\n",
              "      <th>6</th>\n",
              "      <td>[교육이 미래다] 꿈의대학 경민대 &amp;quot;독립운동처럼 중요한 교육이기에&amp;quot...</td>\n",
              "      <td>http://www.joongboo.com/news/articleView.html?...</td>\n",
              "      <td>http://www.joongboo.com/news/articleView.html?...</td>\n",
              "      <td>이와 비슷한 맥락에서 '4차 산업혁명 시대를 대비한 창의적 코딩' 강의 역시 C언어...</td>\n",
              "      <td>Thu, 26 Nov 2020 15:34:00 +0900</td>\n",
              "      <td>Sun, 29 Nov 2020 13:25:51 +0900</td>\n",
              "      <td>9030</td>\n",
              "    </tr>\n",
              "    <tr>\n",
              "      <th>7</th>\n",
              "      <td>한국기술교육대 원격교육연수원, 3년 연속 '우수기관' 선정</td>\n",
              "      <td>http://www.newsfreezone.co.kr/news/articleView...</td>\n",
              "      <td>http://www.newsfreezone.co.kr/news/articleView...</td>\n",
              "      <td>한국기술교육대학교 원격교육연수원은 &lt;b&gt;파이썬&lt;/b&gt; 프로그래밍, Unity, 3D...</td>\n",
              "      <td>Thu, 26 Nov 2020 10:54:00 +0900</td>\n",
              "      <td>Sun, 29 Nov 2020 13:25:51 +0900</td>\n",
              "      <td>9030</td>\n",
              "    </tr>\n",
              "    <tr>\n",
              "      <th>8</th>\n",
              "      <td>겨울 '인턴 대어'가 몰려온다…LG화학, 네이버, E1 등</td>\n",
              "      <td>http://www.newsis.com/view/?id=NISX20201125_00...</td>\n",
              "      <td>https://news.naver.com/main/read.nhn?mode=LSD&amp;...</td>\n",
              "      <td>데이터 활용 능력(R, &lt;b&gt;파이썬&lt;/b&gt;)이 뛰어난 사람을 우대한다. 인턴 기간 ...</td>\n",
              "      <td>Thu, 26 Nov 2020 00:20:00 +0900</td>\n",
              "      <td>Sun, 29 Nov 2020 13:25:51 +0900</td>\n",
              "      <td>9030</td>\n",
              "    </tr>\n",
              "    <tr>\n",
              "      <th>9</th>\n",
              "      <td>연구기관 ETRI, AI 아카데미 100일 운영해보니…</td>\n",
              "      <td>https://zdnet.co.kr/view/?no=20201125123408</td>\n",
              "      <td>https://news.naver.com/main/read.nhn?mode=LSD&amp;...</td>\n",
              "      <td>기획행정부서 직원이 &lt;b&gt;파이썬&lt;/b&gt; 프로그래밍 교육을 들었다는 것이다. 첫 과정...</td>\n",
              "      <td>Wed, 25 Nov 2020 14:16:00 +0900</td>\n",
              "      <td>Sun, 29 Nov 2020 13:25:51 +0900</td>\n",
              "      <td>9030</td>\n",
              "    </tr>\n",
              "  </tbody>\n",
              "</table>\n",
              "</div>"
            ],
            "text/plain": [
              "                                               title  ... total\n",
              "0      아이비김영 국비지원 컴퓨터학원 '더조은컴퓨터아카데미', 2020 겨울방학특강...  ...  9030\n",
              "1                         고고학자 도와 연구 속도 높여주는 CNN 신경망  ...  9030\n",
              "2                   [특집]충남, '융복합 디스플레이' 특화로 미래먹거리 발굴  ...  9030\n",
              "3                    아시아경제 '빅데이터 분석 실무 프로젝트 경진대회' 개최  ...  9030\n",
              "4                      오피지지 데이터 분석가가 말하는 '티어 올리는 꿀팁'  ...  9030\n",
              "5           한국장학진흥원, 빅데이터전문가 및 코딩지도사 자격증 무료수강 이벤트 진행  ...  9030\n",
              "6  [교육이 미래다] 꿈의대학 경민대 &quot;독립운동처럼 중요한 교육이기에&quot...  ...  9030\n",
              "7                   한국기술교육대 원격교육연수원, 3년 연속 '우수기관' 선정  ...  9030\n",
              "8                   겨울 '인턴 대어'가 몰려온다…LG화학, 네이버, E1 등  ...  9030\n",
              "9                     연구기관 ETRI, AI 아카데미 100일 운영해보니…  ...  9030\n",
              "\n",
              "[10 rows x 7 columns]"
            ]
          },
          "metadata": {
            "tags": []
          },
          "execution_count": 20
        }
      ]
    },
    {
      "cell_type": "code",
      "metadata": {
        "id": "HrmZutD9ROtn"
      },
      "source": [
        ""
      ],
      "execution_count": null,
      "outputs": []
    }
  ]
}